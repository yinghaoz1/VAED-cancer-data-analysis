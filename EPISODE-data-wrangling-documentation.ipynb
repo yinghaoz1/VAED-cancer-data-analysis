{
 "cells": [
  {
   "cell_type": "markdown",
   "metadata": {},
   "source": [
    "## 1. Introduction\n",
    "Data wrangling is the process of transforming and mapping data from one \"raw\" data form into another format with the intent of making it more appropriate and valuable for a variety of downstream purposes such as analytics. This report illustrates the process of how the `EPISODE_201314`, `EPISODE_201415`, and `EPISODE_201415` cancer dataset are wrangled using `pandas`. The goal of data wrangling is to make the structure of the data clean and consistent, and eliminate the redundant and erroneous value, in order to make the dataset more easier to be analyzed and visualized. The data wrangling process includes three steps:\n",
    "- Step 1: Gather all of the dataset and combine them into one dataset, during which some adjustments will be done.\n",
    "- Step 2: Assess the dataset by visual and programmatic ways, and identify the quality, tidienss issue, and potential issues which will not be resolved in this document.\n",
    "- Step 3: Clean all of the identified the issue and check the result. The cleaned dataset will be stored in other `.csv` files. Note that the issue will not be resolved as the same sequence listed in Step 2, for it will be conveninent to resolve some issues first and others in the next.\n",
    "\n",
    "## 2. Methodology\n",
    "### 2.1 Data Quality Principle\n",
    "Before we begin the data wrangling, the principle of good data quality and tidiness should be clarified. _Quality_ issues pertain to the content of data. A good quality has four dimensions:\n",
    "- Completeness: The dataset has no missing rows, columns, and cells\n",
    "- Validity: The dataset should conform to a schema, or the a set of rules related to real-world and table-specific constraints.\n",
    "- Accuracy: The dataset should not contain valid but wrong data. \n",
    "- Consistency: The format representing the data should be standard.\n",
    "\n",
    "### 2.2 Data Tidiness Principle\n",
    "_Tidiness_ isues pertain to the structure of data. A good tidiness has three dimensions:\n",
    "- Each variable forms a column.\n",
    "- Each observation forms a row.\n",
    "- Each type of observational unit forms a table.\n",
    "\n",
    "## 3. Data Gathering"
   ]
  },
  {
   "cell_type": "code",
   "execution_count": 1,
   "metadata": {},
   "outputs": [],
   "source": [
    "# import the package needed for analysis and visualizations\n",
    "import numpy as np\n",
    "import pandas as pd\n",
    "import matplotlib.pyplot as plt\n",
    "import seaborn as sns\n",
    "\n",
    "% matplotlib inline\n",
    "\n",
    "# set the option to see all of columns in this notebook\n",
    "pd.set_option('display.max_columns', 200)"
   ]
  },
  {
   "cell_type": "code",
   "execution_count": 2,
   "metadata": {},
   "outputs": [],
   "source": [
    "# read the csv file and combine the dataset\n",
    "df_1314 = pd.read_csv('EPISODE_201314.csv')\n",
    "df_1415 = pd.read_csv('EPISODE_201415.csv')\n",
    "df_1516 = pd.read_csv('EPISODE_201516.csv')\n",
    "\n",
    "df_1314['FIS_YEAR'] = '13/14'\n",
    "df_1415['FIS_YEAR'] = '14/15'\n",
    "df_1516['FIS_YEAR'] = '15/16'\n",
    "\n",
    "df = pd.concat([df_1314, df_1415, df_1516], ignore_index=True)"
   ]
  },
  {
   "cell_type": "markdown",
   "metadata": {},
   "source": [
    "## 4. Data Assessment\n",
    "### 4.1 Visual Assessment"
   ]
  },
  {
   "cell_type": "code",
   "execution_count": 3,
   "metadata": {},
   "outputs": [
    {
     "data": {
      "text/html": [
       "<div>\n",
       "<style scoped>\n",
       "    .dataframe tbody tr th:only-of-type {\n",
       "        vertical-align: middle;\n",
       "    }\n",
       "\n",
       "    .dataframe tbody tr th {\n",
       "        vertical-align: top;\n",
       "    }\n",
       "\n",
       "    .dataframe thead th {\n",
       "        text-align: right;\n",
       "    }\n",
       "</style>\n",
       "<table border=\"1\" class=\"dataframe\">\n",
       "  <thead>\n",
       "    <tr style=\"text-align: right;\">\n",
       "      <th></th>\n",
       "      <th>USI</th>\n",
       "      <th>UNIQUE_KEY</th>\n",
       "      <th>SEX</th>\n",
       "      <th>DATE_OF_BIRTH</th>\n",
       "      <th>ADM_DT</th>\n",
       "      <th>SEP_DT</th>\n",
       "      <th>CARE_TYP</th>\n",
       "      <th>ADM_TYP</th>\n",
       "      <th>ADM_SRC</th>\n",
       "      <th>FIS_YEAR</th>\n",
       "    </tr>\n",
       "  </thead>\n",
       "  <tbody>\n",
       "    <tr>\n",
       "      <th>0</th>\n",
       "      <td>NaN</td>\n",
       "      <td>6387796</td>\n",
       "      <td>2</td>\n",
       "      <td>10JUL2013</td>\n",
       "      <td>10JUL2013</td>\n",
       "      <td>10JUL2013</td>\n",
       "      <td>4</td>\n",
       "      <td>Y</td>\n",
       "      <td>Y</td>\n",
       "      <td>13/14</td>\n",
       "    </tr>\n",
       "    <tr>\n",
       "      <th>1</th>\n",
       "      <td>NaN</td>\n",
       "      <td>6401408</td>\n",
       "      <td>2</td>\n",
       "      <td>02SEP2013</td>\n",
       "      <td>02SEP2013</td>\n",
       "      <td>02SEP2013</td>\n",
       "      <td>4</td>\n",
       "      <td>Y</td>\n",
       "      <td>Y</td>\n",
       "      <td>13/14</td>\n",
       "    </tr>\n",
       "    <tr>\n",
       "      <th>2</th>\n",
       "      <td>NaN</td>\n",
       "      <td>6402862</td>\n",
       "      <td>1</td>\n",
       "      <td>01JAN1910</td>\n",
       "      <td>07SEP2013</td>\n",
       "      <td>07SEP2013</td>\n",
       "      <td>4</td>\n",
       "      <td>C</td>\n",
       "      <td>H</td>\n",
       "      <td>13/14</td>\n",
       "    </tr>\n",
       "    <tr>\n",
       "      <th>3</th>\n",
       "      <td>NaN</td>\n",
       "      <td>6405955</td>\n",
       "      <td>1</td>\n",
       "      <td>26NOV1982</td>\n",
       "      <td>12SEP2013</td>\n",
       "      <td>12SEP2013</td>\n",
       "      <td>10</td>\n",
       "      <td>K</td>\n",
       "      <td>K</td>\n",
       "      <td>13/14</td>\n",
       "    </tr>\n",
       "    <tr>\n",
       "      <th>4</th>\n",
       "      <td>NaN</td>\n",
       "      <td>6405894</td>\n",
       "      <td>1</td>\n",
       "      <td>10JUN1941</td>\n",
       "      <td>16SEP2013</td>\n",
       "      <td>17SEP2013</td>\n",
       "      <td>10</td>\n",
       "      <td>K</td>\n",
       "      <td>K</td>\n",
       "      <td>13/14</td>\n",
       "    </tr>\n",
       "  </tbody>\n",
       "</table>\n",
       "</div>"
      ],
      "text/plain": [
       "   USI  UNIQUE_KEY  SEX DATE_OF_BIRTH     ADM_DT     SEP_DT CARE_TYP ADM_TYP  \\\n",
       "0  NaN     6387796    2     10JUL2013  10JUL2013  10JUL2013        4       Y   \n",
       "1  NaN     6401408    2     02SEP2013  02SEP2013  02SEP2013        4       Y   \n",
       "2  NaN     6402862    1     01JAN1910  07SEP2013  07SEP2013        4       C   \n",
       "3  NaN     6405955    1     26NOV1982  12SEP2013  12SEP2013       10       K   \n",
       "4  NaN     6405894    1     10JUN1941  16SEP2013  17SEP2013       10       K   \n",
       "\n",
       "  ADM_SRC FIS_YEAR  \n",
       "0       Y    13/14  \n",
       "1       Y    13/14  \n",
       "2       H    13/14  \n",
       "3       K    13/14  \n",
       "4       K    13/14  "
      ]
     },
     "execution_count": 3,
     "metadata": {},
     "output_type": "execute_result"
    }
   ],
   "source": [
    "df.head()"
   ]
  },
  {
   "cell_type": "code",
   "execution_count": 4,
   "metadata": {},
   "outputs": [
    {
     "data": {
      "text/html": [
       "<div>\n",
       "<style scoped>\n",
       "    .dataframe tbody tr th:only-of-type {\n",
       "        vertical-align: middle;\n",
       "    }\n",
       "\n",
       "    .dataframe tbody tr th {\n",
       "        vertical-align: top;\n",
       "    }\n",
       "\n",
       "    .dataframe thead th {\n",
       "        text-align: right;\n",
       "    }\n",
       "</style>\n",
       "<table border=\"1\" class=\"dataframe\">\n",
       "  <thead>\n",
       "    <tr style=\"text-align: right;\">\n",
       "      <th></th>\n",
       "      <th>USI</th>\n",
       "      <th>UNIQUE_KEY</th>\n",
       "      <th>SEX</th>\n",
       "      <th>DATE_OF_BIRTH</th>\n",
       "      <th>ADM_DT</th>\n",
       "      <th>SEP_DT</th>\n",
       "      <th>CARE_TYP</th>\n",
       "      <th>ADM_TYP</th>\n",
       "      <th>ADM_SRC</th>\n",
       "      <th>FIS_YEAR</th>\n",
       "    </tr>\n",
       "  </thead>\n",
       "  <tbody>\n",
       "    <tr>\n",
       "      <th>261628</th>\n",
       "      <td>2729079.0</td>\n",
       "      <td>6755051</td>\n",
       "      <td>1</td>\n",
       "      <td>09FEB1938</td>\n",
       "      <td>30JUN2016</td>\n",
       "      <td>07JUL2016</td>\n",
       "      <td>4</td>\n",
       "      <td>P</td>\n",
       "      <td>T</td>\n",
       "      <td>15/16</td>\n",
       "    </tr>\n",
       "    <tr>\n",
       "      <th>261629</th>\n",
       "      <td>2729200.0</td>\n",
       "      <td>6755246</td>\n",
       "      <td>1</td>\n",
       "      <td>14JAN1955</td>\n",
       "      <td>30JUN2016</td>\n",
       "      <td>30JUN2016</td>\n",
       "      <td>4</td>\n",
       "      <td>P</td>\n",
       "      <td>H</td>\n",
       "      <td>15/16</td>\n",
       "    </tr>\n",
       "    <tr>\n",
       "      <th>261630</th>\n",
       "      <td>2729527.0</td>\n",
       "      <td>6756100</td>\n",
       "      <td>2</td>\n",
       "      <td>06JUL1938</td>\n",
       "      <td>24JUN2016</td>\n",
       "      <td>24JUN2016</td>\n",
       "      <td>4</td>\n",
       "      <td>P</td>\n",
       "      <td>T</td>\n",
       "      <td>15/16</td>\n",
       "    </tr>\n",
       "    <tr>\n",
       "      <th>261631</th>\n",
       "      <td>2729527.0</td>\n",
       "      <td>6756101</td>\n",
       "      <td>2</td>\n",
       "      <td>06JUL1938</td>\n",
       "      <td>27JUN2016</td>\n",
       "      <td>27JUN2016</td>\n",
       "      <td>4</td>\n",
       "      <td>P</td>\n",
       "      <td>T</td>\n",
       "      <td>15/16</td>\n",
       "    </tr>\n",
       "    <tr>\n",
       "      <th>261632</th>\n",
       "      <td>2729527.0</td>\n",
       "      <td>6756102</td>\n",
       "      <td>2</td>\n",
       "      <td>06JUL1938</td>\n",
       "      <td>29JUN2016</td>\n",
       "      <td>29JUN2016</td>\n",
       "      <td>4</td>\n",
       "      <td>P</td>\n",
       "      <td>T</td>\n",
       "      <td>15/16</td>\n",
       "    </tr>\n",
       "  </tbody>\n",
       "</table>\n",
       "</div>"
      ],
      "text/plain": [
       "              USI  UNIQUE_KEY  SEX DATE_OF_BIRTH     ADM_DT     SEP_DT  \\\n",
       "261628  2729079.0     6755051    1     09FEB1938  30JUN2016  07JUL2016   \n",
       "261629  2729200.0     6755246    1     14JAN1955  30JUN2016  30JUN2016   \n",
       "261630  2729527.0     6756100    2     06JUL1938  24JUN2016  24JUN2016   \n",
       "261631  2729527.0     6756101    2     06JUL1938  27JUN2016  27JUN2016   \n",
       "261632  2729527.0     6756102    2     06JUL1938  29JUN2016  29JUN2016   \n",
       "\n",
       "       CARE_TYP ADM_TYP ADM_SRC FIS_YEAR  \n",
       "261628        4       P       T    15/16  \n",
       "261629        4       P       H    15/16  \n",
       "261630        4       P       T    15/16  \n",
       "261631        4       P       T    15/16  \n",
       "261632        4       P       T    15/16  "
      ]
     },
     "execution_count": 4,
     "metadata": {},
     "output_type": "execute_result"
    }
   ],
   "source": [
    "df.tail()"
   ]
  },
  {
   "cell_type": "code",
   "execution_count": 5,
   "metadata": {},
   "outputs": [
    {
     "data": {
      "text/html": [
       "<div>\n",
       "<style scoped>\n",
       "    .dataframe tbody tr th:only-of-type {\n",
       "        vertical-align: middle;\n",
       "    }\n",
       "\n",
       "    .dataframe tbody tr th {\n",
       "        vertical-align: top;\n",
       "    }\n",
       "\n",
       "    .dataframe thead th {\n",
       "        text-align: right;\n",
       "    }\n",
       "</style>\n",
       "<table border=\"1\" class=\"dataframe\">\n",
       "  <thead>\n",
       "    <tr style=\"text-align: right;\">\n",
       "      <th></th>\n",
       "      <th>USI</th>\n",
       "      <th>UNIQUE_KEY</th>\n",
       "      <th>SEX</th>\n",
       "      <th>DATE_OF_BIRTH</th>\n",
       "      <th>ADM_DT</th>\n",
       "      <th>SEP_DT</th>\n",
       "      <th>CARE_TYP</th>\n",
       "      <th>ADM_TYP</th>\n",
       "      <th>ADM_SRC</th>\n",
       "      <th>FIS_YEAR</th>\n",
       "    </tr>\n",
       "  </thead>\n",
       "  <tbody>\n",
       "    <tr>\n",
       "      <th>114526</th>\n",
       "      <td>816390.0</td>\n",
       "      <td>6565865</td>\n",
       "      <td>1</td>\n",
       "      <td>06JAN1938</td>\n",
       "      <td>08AUG2014</td>\n",
       "      <td>08AUG2014</td>\n",
       "      <td>4</td>\n",
       "      <td>P</td>\n",
       "      <td>H</td>\n",
       "      <td>14/15</td>\n",
       "    </tr>\n",
       "    <tr>\n",
       "      <th>202588</th>\n",
       "      <td>893526.0</td>\n",
       "      <td>6675835</td>\n",
       "      <td>2</td>\n",
       "      <td>18JAN1940</td>\n",
       "      <td>29SEP2015</td>\n",
       "      <td>30SEP2015</td>\n",
       "      <td>4</td>\n",
       "      <td>C</td>\n",
       "      <td>H</td>\n",
       "      <td>15/16</td>\n",
       "    </tr>\n",
       "    <tr>\n",
       "      <th>151874</th>\n",
       "      <td>2408116.0</td>\n",
       "      <td>6597884</td>\n",
       "      <td>1</td>\n",
       "      <td>11OCT1970</td>\n",
       "      <td>09DEC2014</td>\n",
       "      <td>11DEC2014</td>\n",
       "      <td>4</td>\n",
       "      <td>P</td>\n",
       "      <td>H</td>\n",
       "      <td>14/15</td>\n",
       "    </tr>\n",
       "    <tr>\n",
       "      <th>131950</th>\n",
       "      <td>1897807.0</td>\n",
       "      <td>6614082</td>\n",
       "      <td>1</td>\n",
       "      <td>15JAN1960</td>\n",
       "      <td>12FEB2015</td>\n",
       "      <td>13FEB2015</td>\n",
       "      <td>4</td>\n",
       "      <td>C</td>\n",
       "      <td>H</td>\n",
       "      <td>14/15</td>\n",
       "    </tr>\n",
       "    <tr>\n",
       "      <th>242302</th>\n",
       "      <td>2470141.0</td>\n",
       "      <td>6752010</td>\n",
       "      <td>2</td>\n",
       "      <td>08SEP1956</td>\n",
       "      <td>21JUN2016</td>\n",
       "      <td>21JUN2016</td>\n",
       "      <td>4</td>\n",
       "      <td>P</td>\n",
       "      <td>H</td>\n",
       "      <td>15/16</td>\n",
       "    </tr>\n",
       "    <tr>\n",
       "      <th>221879</th>\n",
       "      <td>1927121.0</td>\n",
       "      <td>6731168</td>\n",
       "      <td>1</td>\n",
       "      <td>20MAR1956</td>\n",
       "      <td>12APR2016</td>\n",
       "      <td>12APR2016</td>\n",
       "      <td>4</td>\n",
       "      <td>P</td>\n",
       "      <td>H</td>\n",
       "      <td>15/16</td>\n",
       "    </tr>\n",
       "    <tr>\n",
       "      <th>5728</th>\n",
       "      <td>6078.0</td>\n",
       "      <td>6427896</td>\n",
       "      <td>1</td>\n",
       "      <td>03MAY1944</td>\n",
       "      <td>24OCT2013</td>\n",
       "      <td>24OCT2013</td>\n",
       "      <td>4</td>\n",
       "      <td>X</td>\n",
       "      <td>H</td>\n",
       "      <td>13/14</td>\n",
       "    </tr>\n",
       "    <tr>\n",
       "      <th>128136</th>\n",
       "      <td>1175104.0</td>\n",
       "      <td>6622096</td>\n",
       "      <td>2</td>\n",
       "      <td>28APR1974</td>\n",
       "      <td>13MAR2015</td>\n",
       "      <td>13MAR2015</td>\n",
       "      <td>4</td>\n",
       "      <td>C</td>\n",
       "      <td>H</td>\n",
       "      <td>14/15</td>\n",
       "    </tr>\n",
       "    <tr>\n",
       "      <th>145359</th>\n",
       "      <td>2183442.0</td>\n",
       "      <td>6585745</td>\n",
       "      <td>1</td>\n",
       "      <td>14JAN1948</td>\n",
       "      <td>23OCT2014</td>\n",
       "      <td>25OCT2014</td>\n",
       "      <td>4</td>\n",
       "      <td>O</td>\n",
       "      <td>H</td>\n",
       "      <td>14/15</td>\n",
       "    </tr>\n",
       "    <tr>\n",
       "      <th>61111</th>\n",
       "      <td>2176463.0</td>\n",
       "      <td>6551505</td>\n",
       "      <td>1</td>\n",
       "      <td>03MAR1986</td>\n",
       "      <td>22JUN2014</td>\n",
       "      <td>24JUN2014</td>\n",
       "      <td>4</td>\n",
       "      <td>C</td>\n",
       "      <td>H</td>\n",
       "      <td>13/14</td>\n",
       "    </tr>\n",
       "  </tbody>\n",
       "</table>\n",
       "</div>"
      ],
      "text/plain": [
       "              USI  UNIQUE_KEY  SEX DATE_OF_BIRTH     ADM_DT     SEP_DT  \\\n",
       "114526   816390.0     6565865    1     06JAN1938  08AUG2014  08AUG2014   \n",
       "202588   893526.0     6675835    2     18JAN1940  29SEP2015  30SEP2015   \n",
       "151874  2408116.0     6597884    1     11OCT1970  09DEC2014  11DEC2014   \n",
       "131950  1897807.0     6614082    1     15JAN1960  12FEB2015  13FEB2015   \n",
       "242302  2470141.0     6752010    2     08SEP1956  21JUN2016  21JUN2016   \n",
       "221879  1927121.0     6731168    1     20MAR1956  12APR2016  12APR2016   \n",
       "5728       6078.0     6427896    1     03MAY1944  24OCT2013  24OCT2013   \n",
       "128136  1175104.0     6622096    2     28APR1974  13MAR2015  13MAR2015   \n",
       "145359  2183442.0     6585745    1     14JAN1948  23OCT2014  25OCT2014   \n",
       "61111   2176463.0     6551505    1     03MAR1986  22JUN2014  24JUN2014   \n",
       "\n",
       "       CARE_TYP ADM_TYP ADM_SRC FIS_YEAR  \n",
       "114526        4       P       H    14/15  \n",
       "202588        4       C       H    15/16  \n",
       "151874        4       P       H    14/15  \n",
       "131950        4       C       H    14/15  \n",
       "242302        4       P       H    15/16  \n",
       "221879        4       P       H    15/16  \n",
       "5728          4       X       H    13/14  \n",
       "128136        4       C       H    14/15  \n",
       "145359        4       O       H    14/15  \n",
       "61111         4       C       H    13/14  "
      ]
     },
     "execution_count": 5,
     "metadata": {},
     "output_type": "execute_result"
    }
   ],
   "source": [
    "df.sample(10)"
   ]
  },
  {
   "cell_type": "markdown",
   "metadata": {},
   "source": [
    "From visual assessment, some issues are found:\n",
    "- Firstly, the data type of `DATE_OF_BIRTH`, `ADM_DT`, and `SEP_DT` is not the formal `datetime`.\n",
    "- Secondly, the data type of `USI` is `float` rather than `int`.\n",
    "- Thirdly, `DATE_OF_BIRTH` and `SEP_DT` contain `NaN` values.\n",
    "\n",
    "It should be noted that even if `USI` contains lots of `NaN` values, this means some clinics have input the data as clinic unit rather than individual unit, so it should not be seen as an issue. However, since there are just 87 `NaN` values in the whole dataset, in order to simply the work, I will drop them for further analysis."
   ]
  },
  {
   "cell_type": "markdown",
   "metadata": {},
   "source": [
    "### 4.2 Programmatic Assessment"
   ]
  },
  {
   "cell_type": "code",
   "execution_count": 6,
   "metadata": {},
   "outputs": [
    {
     "name": "stdout",
     "output_type": "stream",
     "text": [
      "<class 'pandas.core.frame.DataFrame'>\n",
      "RangeIndex: 261633 entries, 0 to 261632\n",
      "Data columns (total 10 columns):\n",
      "USI              261546 non-null float64\n",
      "UNIQUE_KEY       261633 non-null int64\n",
      "SEX              261633 non-null int64\n",
      "DATE_OF_BIRTH    261629 non-null object\n",
      "ADM_DT           261633 non-null object\n",
      "SEP_DT           261625 non-null object\n",
      "CARE_TYP         261633 non-null object\n",
      "ADM_TYP          261633 non-null object\n",
      "ADM_SRC          261633 non-null object\n",
      "FIS_YEAR         261633 non-null object\n",
      "dtypes: float64(1), int64(2), object(7)\n",
      "memory usage: 20.0+ MB\n"
     ]
    }
   ],
   "source": [
    "# get the information of the table\n",
    "df.info()"
   ]
  },
  {
   "cell_type": "code",
   "execution_count": 7,
   "metadata": {},
   "outputs": [
    {
     "data": {
      "text/plain": [
       "0"
      ]
     },
     "execution_count": 7,
     "metadata": {},
     "output_type": "execute_result"
    }
   ],
   "source": [
    "# check the duplication in the dataset\n",
    "df.duplicated().sum()"
   ]
  },
  {
   "cell_type": "code",
   "execution_count": 8,
   "metadata": {},
   "outputs": [
    {
     "data": {
      "text/plain": [
       "1    139931\n",
       "2    121702\n",
       "Name: SEX, dtype: int64"
      ]
     },
     "execution_count": 8,
     "metadata": {},
     "output_type": "execute_result"
    }
   ],
   "source": [
    "# check the value of `SEX`\n",
    "df.SEX.value_counts()"
   ]
  },
  {
   "cell_type": "code",
   "execution_count": 9,
   "metadata": {},
   "outputs": [
    {
     "data": {
      "text/plain": [
       "4     248406\n",
       "9       4262\n",
       "5A      3095\n",
       "6       2309\n",
       "5S      2061\n",
       "8       1176\n",
       "2        144\n",
       "R1       129\n",
       "10        50\n",
       "1          1\n",
       "Name: CARE_TYP, dtype: int64"
      ]
     },
     "execution_count": 9,
     "metadata": {},
     "output_type": "execute_result"
    }
   ],
   "source": [
    "# check the value of `CARE_TYP`\n",
    "df.CARE_TYP.value_counts()"
   ]
  },
  {
   "cell_type": "code",
   "execution_count": 10,
   "metadata": {},
   "outputs": [
    {
     "data": {
      "text/plain": [
       "P    110767\n",
       "C     89516\n",
       "X     32525\n",
       "L     21303\n",
       "O      4482\n",
       "S      2965\n",
       "K        50\n",
       "M        17\n",
       "Y         8\n",
       "Name: ADM_TYP, dtype: int64"
      ]
     },
     "execution_count": 10,
     "metadata": {},
     "output_type": "execute_result"
    }
   ],
   "source": [
    "# check the value of `ADM_TYP`\n",
    "df.ADM_TYP.value_counts()"
   ]
  },
  {
   "cell_type": "code",
   "execution_count": 11,
   "metadata": {},
   "outputs": [
    {
     "data": {
      "text/plain": [
       "H    243166\n",
       "T     14031\n",
       "S      2965\n",
       "N      1227\n",
       "B       117\n",
       "A        69\n",
       "K        50\n",
       "Y         8\n",
       "Name: ADM_SRC, dtype: int64"
      ]
     },
     "execution_count": 11,
     "metadata": {},
     "output_type": "execute_result"
    }
   ],
   "source": [
    "# check the value of `ADM_SRC`\n",
    "df.ADM_SRC.value_counts()"
   ]
  },
  {
   "cell_type": "markdown",
   "metadata": {},
   "source": [
    "It seems that all of the issues are identified in _Section 4.1_. Since there are no numeric values in the dataset, there is no need to use `.describe()` method.\n",
    "\n",
    "### 4.3 Issue Summary\n",
    "- `USI`, `DATE_OF_BIRTH` and `SEP_DT` contain `NaN` values.\n",
    "- The data type of `DATE_OF_BIRTH`, `ADM_DT`, and `SEP_DT` is not the formal `datetime`.\n",
    "- The data type of `USI` is `float` rather than `int`.\n",
    "\n",
    "\n",
    "## 5. Data Cleaning\n",
    "### 5.1 Issue 1: `USI`, `DATE_OF_BIRTH`, and `SEP_DT` contain `NaN` values.\n",
    "#### Define\n",
    "Drop null values in `USI`, `DATE_OF_BIRTH`, and `SEP_DT`\n",
    "\n",
    "#### Code"
   ]
  },
  {
   "cell_type": "code",
   "execution_count": 12,
   "metadata": {},
   "outputs": [],
   "source": [
    "df_1 = df.copy()\n",
    "df_1.dropna(inplace=True)"
   ]
  },
  {
   "cell_type": "markdown",
   "metadata": {},
   "source": [
    "#### Test"
   ]
  },
  {
   "cell_type": "code",
   "execution_count": 13,
   "metadata": {},
   "outputs": [
    {
     "name": "stdout",
     "output_type": "stream",
     "text": [
      "<class 'pandas.core.frame.DataFrame'>\n",
      "Int64Index: 261534 entries, 21 to 261632\n",
      "Data columns (total 10 columns):\n",
      "USI              261534 non-null float64\n",
      "UNIQUE_KEY       261534 non-null int64\n",
      "SEX              261534 non-null int64\n",
      "DATE_OF_BIRTH    261534 non-null object\n",
      "ADM_DT           261534 non-null object\n",
      "SEP_DT           261534 non-null object\n",
      "CARE_TYP         261534 non-null object\n",
      "ADM_TYP          261534 non-null object\n",
      "ADM_SRC          261534 non-null object\n",
      "FIS_YEAR         261534 non-null object\n",
      "dtypes: float64(1), int64(2), object(7)\n",
      "memory usage: 21.9+ MB\n"
     ]
    }
   ],
   "source": [
    "df_1.info()"
   ]
  },
  {
   "cell_type": "markdown",
   "metadata": {},
   "source": [
    "### 5.2 Issue 2: The data type of `DATE_OF_BIRTH`, `ADM_DT`, and `SEP_DT` is not the formal `datetime`.\n",
    "#### Define\n",
    "Convert the data type of `DATE_OF_BIRTH`, `ADM_DT`, and `SEP_DT` to `datetime`.\n",
    "#### Code"
   ]
  },
  {
   "cell_type": "code",
   "execution_count": 14,
   "metadata": {},
   "outputs": [],
   "source": [
    "from datetime import datetime\n",
    "\n",
    "def convert_datetime(x):\n",
    "    day = x[:2]\n",
    "    month = x[2:5]\n",
    "    year = x[-4:]\n",
    "    \n",
    "    month = convert_month(month)\n",
    "    date_str = year + '-' + month + '-' + day\n",
    "    date_dt = datetime.strptime(date_str, '%Y-%m-%d')\n",
    "    return date_dt\n",
    "    \n",
    "def convert_month(month):\n",
    "    if month == 'JAN':\n",
    "        return '01'\n",
    "    elif month == 'FEB':\n",
    "        return '02'\n",
    "    elif month == 'MAR':\n",
    "        return '03'\n",
    "    elif month == 'APR':\n",
    "        return '04'\n",
    "    elif month == 'MAY':\n",
    "        return '05'\n",
    "    elif month == 'JUN':\n",
    "        return '06'\n",
    "    elif month == 'JUL':\n",
    "        return '07'\n",
    "    elif month == 'AUG':\n",
    "        return '08'\n",
    "    elif month == 'SEP':\n",
    "        return '09'\n",
    "    elif month == 'OCT':\n",
    "        return '10'\n",
    "    elif month == 'NOV':\n",
    "        return '11'\n",
    "    elif month == 'DEC':\n",
    "        return '12'\n",
    "    \n",
    "df_2 = df_1.copy()\n",
    "df_2['DATE_OF_BIRTH'] = df_2['DATE_OF_BIRTH'].apply(convert_datetime)\n",
    "df_2['ADM_DT'] = df_2['ADM_DT'].apply(convert_datetime)\n",
    "df_2['SEP_DT'] = df_2['SEP_DT'].apply(convert_datetime)"
   ]
  },
  {
   "cell_type": "markdown",
   "metadata": {},
   "source": [
    "#### Test"
   ]
  },
  {
   "cell_type": "code",
   "execution_count": 15,
   "metadata": {},
   "outputs": [
    {
     "name": "stdout",
     "output_type": "stream",
     "text": [
      "<class 'pandas.core.frame.DataFrame'>\n",
      "Int64Index: 261534 entries, 21 to 261632\n",
      "Data columns (total 10 columns):\n",
      "USI              261534 non-null float64\n",
      "UNIQUE_KEY       261534 non-null int64\n",
      "SEX              261534 non-null int64\n",
      "DATE_OF_BIRTH    261534 non-null datetime64[ns]\n",
      "ADM_DT           261534 non-null datetime64[ns]\n",
      "SEP_DT           261534 non-null datetime64[ns]\n",
      "CARE_TYP         261534 non-null object\n",
      "ADM_TYP          261534 non-null object\n",
      "ADM_SRC          261534 non-null object\n",
      "FIS_YEAR         261534 non-null object\n",
      "dtypes: datetime64[ns](3), float64(1), int64(2), object(4)\n",
      "memory usage: 21.9+ MB\n"
     ]
    }
   ],
   "source": [
    "df_2.info()"
   ]
  },
  {
   "cell_type": "markdown",
   "metadata": {},
   "source": [
    "### 5.3 Issue 3: The data type of `USI` is `float` rather than `int`.\n",
    "#### Define\n",
    "Convert the data type of `USI` from `float` to `int`.\n",
    "#### Code"
   ]
  },
  {
   "cell_type": "code",
   "execution_count": 16,
   "metadata": {},
   "outputs": [],
   "source": [
    "df_3 = df_2.copy()\n",
    "df_3.USI = df_3.USI.astype('int')"
   ]
  },
  {
   "cell_type": "markdown",
   "metadata": {},
   "source": [
    "#### Test"
   ]
  },
  {
   "cell_type": "code",
   "execution_count": 17,
   "metadata": {},
   "outputs": [
    {
     "name": "stdout",
     "output_type": "stream",
     "text": [
      "<class 'pandas.core.frame.DataFrame'>\n",
      "Int64Index: 261534 entries, 21 to 261632\n",
      "Data columns (total 10 columns):\n",
      "USI              261534 non-null int64\n",
      "UNIQUE_KEY       261534 non-null int64\n",
      "SEX              261534 non-null int64\n",
      "DATE_OF_BIRTH    261534 non-null datetime64[ns]\n",
      "ADM_DT           261534 non-null datetime64[ns]\n",
      "SEP_DT           261534 non-null datetime64[ns]\n",
      "CARE_TYP         261534 non-null object\n",
      "ADM_TYP          261534 non-null object\n",
      "ADM_SRC          261534 non-null object\n",
      "FIS_YEAR         261534 non-null object\n",
      "dtypes: datetime64[ns](3), int64(3), object(4)\n",
      "memory usage: 21.9+ MB\n"
     ]
    }
   ],
   "source": [
    "df_3.info()"
   ]
  },
  {
   "cell_type": "markdown",
   "metadata": {},
   "source": [
    "### 5.4 Summary\n",
    "All of the issues have been resolved, the characteristics of the table is shown below:"
   ]
  },
  {
   "cell_type": "code",
   "execution_count": 18,
   "metadata": {},
   "outputs": [],
   "source": [
    "df_clean = df_3.copy()"
   ]
  },
  {
   "cell_type": "code",
   "execution_count": 19,
   "metadata": {},
   "outputs": [
    {
     "name": "stdout",
     "output_type": "stream",
     "text": [
      "<class 'pandas.core.frame.DataFrame'>\n",
      "Int64Index: 261534 entries, 21 to 261632\n",
      "Data columns (total 10 columns):\n",
      "USI              261534 non-null int64\n",
      "UNIQUE_KEY       261534 non-null int64\n",
      "SEX              261534 non-null int64\n",
      "DATE_OF_BIRTH    261534 non-null datetime64[ns]\n",
      "ADM_DT           261534 non-null datetime64[ns]\n",
      "SEP_DT           261534 non-null datetime64[ns]\n",
      "CARE_TYP         261534 non-null object\n",
      "ADM_TYP          261534 non-null object\n",
      "ADM_SRC          261534 non-null object\n",
      "FIS_YEAR         261534 non-null object\n",
      "dtypes: datetime64[ns](3), int64(3), object(4)\n",
      "memory usage: 21.9+ MB\n"
     ]
    }
   ],
   "source": [
    "df_clean.info()"
   ]
  },
  {
   "cell_type": "code",
   "execution_count": 20,
   "metadata": {},
   "outputs": [
    {
     "data": {
      "text/html": [
       "<div>\n",
       "<style scoped>\n",
       "    .dataframe tbody tr th:only-of-type {\n",
       "        vertical-align: middle;\n",
       "    }\n",
       "\n",
       "    .dataframe tbody tr th {\n",
       "        vertical-align: top;\n",
       "    }\n",
       "\n",
       "    .dataframe thead th {\n",
       "        text-align: right;\n",
       "    }\n",
       "</style>\n",
       "<table border=\"1\" class=\"dataframe\">\n",
       "  <thead>\n",
       "    <tr style=\"text-align: right;\">\n",
       "      <th></th>\n",
       "      <th>USI</th>\n",
       "      <th>UNIQUE_KEY</th>\n",
       "      <th>SEX</th>\n",
       "      <th>DATE_OF_BIRTH</th>\n",
       "      <th>ADM_DT</th>\n",
       "      <th>SEP_DT</th>\n",
       "      <th>CARE_TYP</th>\n",
       "      <th>ADM_TYP</th>\n",
       "      <th>ADM_SRC</th>\n",
       "      <th>FIS_YEAR</th>\n",
       "    </tr>\n",
       "  </thead>\n",
       "  <tbody>\n",
       "    <tr>\n",
       "      <th>21</th>\n",
       "      <td>98</td>\n",
       "      <td>6447017</td>\n",
       "      <td>2</td>\n",
       "      <td>1962-04-07</td>\n",
       "      <td>2013-11-11</td>\n",
       "      <td>2013-11-15</td>\n",
       "      <td>4</td>\n",
       "      <td>L</td>\n",
       "      <td>H</td>\n",
       "      <td>13/14</td>\n",
       "    </tr>\n",
       "    <tr>\n",
       "      <th>22</th>\n",
       "      <td>98</td>\n",
       "      <td>6554513</td>\n",
       "      <td>2</td>\n",
       "      <td>1962-04-07</td>\n",
       "      <td>2014-06-27</td>\n",
       "      <td>2014-06-27</td>\n",
       "      <td>4</td>\n",
       "      <td>C</td>\n",
       "      <td>H</td>\n",
       "      <td>13/14</td>\n",
       "    </tr>\n",
       "    <tr>\n",
       "      <th>23</th>\n",
       "      <td>112</td>\n",
       "      <td>6518907</td>\n",
       "      <td>2</td>\n",
       "      <td>1939-03-08</td>\n",
       "      <td>2014-03-27</td>\n",
       "      <td>2014-03-27</td>\n",
       "      <td>4</td>\n",
       "      <td>L</td>\n",
       "      <td>H</td>\n",
       "      <td>13/14</td>\n",
       "    </tr>\n",
       "    <tr>\n",
       "      <th>24</th>\n",
       "      <td>131</td>\n",
       "      <td>6489769</td>\n",
       "      <td>2</td>\n",
       "      <td>1948-10-20</td>\n",
       "      <td>2014-02-11</td>\n",
       "      <td>2014-02-11</td>\n",
       "      <td>4</td>\n",
       "      <td>L</td>\n",
       "      <td>H</td>\n",
       "      <td>13/14</td>\n",
       "    </tr>\n",
       "    <tr>\n",
       "      <th>25</th>\n",
       "      <td>156</td>\n",
       "      <td>6387322</td>\n",
       "      <td>2</td>\n",
       "      <td>1951-05-01</td>\n",
       "      <td>2013-07-07</td>\n",
       "      <td>2013-08-11</td>\n",
       "      <td>4</td>\n",
       "      <td>X</td>\n",
       "      <td>H</td>\n",
       "      <td>13/14</td>\n",
       "    </tr>\n",
       "  </tbody>\n",
       "</table>\n",
       "</div>"
      ],
      "text/plain": [
       "    USI  UNIQUE_KEY  SEX DATE_OF_BIRTH     ADM_DT     SEP_DT CARE_TYP ADM_TYP  \\\n",
       "21   98     6447017    2    1962-04-07 2013-11-11 2013-11-15        4       L   \n",
       "22   98     6554513    2    1962-04-07 2014-06-27 2014-06-27        4       C   \n",
       "23  112     6518907    2    1939-03-08 2014-03-27 2014-03-27        4       L   \n",
       "24  131     6489769    2    1948-10-20 2014-02-11 2014-02-11        4       L   \n",
       "25  156     6387322    2    1951-05-01 2013-07-07 2013-08-11        4       X   \n",
       "\n",
       "   ADM_SRC FIS_YEAR  \n",
       "21       H    13/14  \n",
       "22       H    13/14  \n",
       "23       H    13/14  \n",
       "24       H    13/14  \n",
       "25       H    13/14  "
      ]
     },
     "execution_count": 20,
     "metadata": {},
     "output_type": "execute_result"
    }
   ],
   "source": [
    "df_clean.head()"
   ]
  },
  {
   "cell_type": "markdown",
   "metadata": {},
   "source": [
    "## 6. Data Storage"
   ]
  },
  {
   "cell_type": "code",
   "execution_count": 21,
   "metadata": {},
   "outputs": [],
   "source": [
    "# store the data to the .csv file\n",
    "df_clean.to_csv('episode_clean.csv', index=False)"
   ]
  },
  {
   "cell_type": "markdown",
   "metadata": {},
   "source": [
    "## 7. Conclusion\n",
    "This report records the whole wrangling process of the `EPISODE` dataset from gathering to storage. During this process, 3 quality issues have been identified. Since the data wrangling is a repetitive rather than one-step process in industry, this wrangling is an initial trial and cannot ensure all of the potential issues are resolved. This document will be improved when other issues are found in analysis and visualization."
   ]
  }
 ],
 "metadata": {
  "kernelspec": {
   "display_name": "Python 3",
   "language": "python",
   "name": "python3"
  },
  "language_info": {
   "codemirror_mode": {
    "name": "ipython",
    "version": 3
   },
   "file_extension": ".py",
   "mimetype": "text/x-python",
   "name": "python",
   "nbconvert_exporter": "python",
   "pygments_lexer": "ipython3",
   "version": "3.7.2"
  }
 },
 "nbformat": 4,
 "nbformat_minor": 2
}
