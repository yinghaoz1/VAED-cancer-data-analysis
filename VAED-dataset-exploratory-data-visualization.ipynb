{
 "cells": [
  {
   "cell_type": "markdown",
   "metadata": {},
   "source": [
    "# VAED Dataset Exploratory Data Visualization\n",
    "## 1. Introduction\n",
    "Exploratory data visualizarion, or exploratory data analysis (EDA), is an approach to analyzing data sets to summarize their main characteristics, often with visual methods. This report will build visualizations on the cleaned dataset, namely `diag_clean`, `proc_clean`, and `epis_clean` in order to discover the descriptive characteristics of the dataset. Firstly, the univariate exploration will be used to discover the pattern of each variable concerned. Secondly, the bivariate exploration will be used to discover the relationship between two variables. Because of the dataset difficulty, multivariate exploration will not be used in this report."
   ]
  },
  {
   "cell_type": "code",
   "execution_count": 1,
   "metadata": {},
   "outputs": [],
   "source": [
    "# import all packages and set plots in line\n",
    "import numpy as np\n",
    "import pandas as pd\n",
    "import matplotlib.pyplot as plt\n",
    "import seaborn as sns\n",
    "\n",
    "% matplotlib inline"
   ]
  },
  {
   "cell_type": "code",
   "execution_count": 2,
   "metadata": {},
   "outputs": [
    {
     "name": "stderr",
     "output_type": "stream",
     "text": [
      "/Users/zhangyinghao/anaconda3/lib/python3.7/site-packages/IPython/core/interactiveshell.py:2785: DtypeWarning: Columns (6) have mixed types. Specify dtype option on import or set low_memory=False.\n",
      "  interactivity=interactivity, compiler=compiler, result=result)\n"
     ]
    }
   ],
   "source": [
    "# read all datasets\n",
    "diag = pd.read_csv('diag_clean.csv')\n",
    "proc = pd.read_csv('proc_clean.csv')\n",
    "epis = pd.read_csv('episode_clean.csv')"
   ]
  },
  {
   "cell_type": "code",
   "execution_count": 3,
   "metadata": {},
   "outputs": [
    {
     "data": {
      "text/html": [
       "<div>\n",
       "<style scoped>\n",
       "    .dataframe tbody tr th:only-of-type {\n",
       "        vertical-align: middle;\n",
       "    }\n",
       "\n",
       "    .dataframe tbody tr th {\n",
       "        vertical-align: top;\n",
       "    }\n",
       "\n",
       "    .dataframe thead th {\n",
       "        text-align: right;\n",
       "    }\n",
       "</style>\n",
       "<table border=\"1\" class=\"dataframe\">\n",
       "  <thead>\n",
       "    <tr style=\"text-align: right;\">\n",
       "      <th></th>\n",
       "      <th>USI</th>\n",
       "      <th>UNIQUE_KEY</th>\n",
       "      <th>SEX</th>\n",
       "      <th>FIS_YEAR</th>\n",
       "      <th>DIAG_STAGE</th>\n",
       "      <th>DIAG_CD</th>\n",
       "    </tr>\n",
       "  </thead>\n",
       "  <tbody>\n",
       "    <tr>\n",
       "      <th>0</th>\n",
       "      <td>98</td>\n",
       "      <td>6447017</td>\n",
       "      <td>2</td>\n",
       "      <td>13/14</td>\n",
       "      <td>1</td>\n",
       "      <td>PF445</td>\n",
       "    </tr>\n",
       "    <tr>\n",
       "      <th>1</th>\n",
       "      <td>98</td>\n",
       "      <td>6554513</td>\n",
       "      <td>2</td>\n",
       "      <td>13/14</td>\n",
       "      <td>1</td>\n",
       "      <td>PJ22</td>\n",
       "    </tr>\n",
       "    <tr>\n",
       "      <th>2</th>\n",
       "      <td>112</td>\n",
       "      <td>6518907</td>\n",
       "      <td>2</td>\n",
       "      <td>13/14</td>\n",
       "      <td>1</td>\n",
       "      <td>PD125</td>\n",
       "    </tr>\n",
       "    <tr>\n",
       "      <th>3</th>\n",
       "      <td>131</td>\n",
       "      <td>6489769</td>\n",
       "      <td>2</td>\n",
       "      <td>13/14</td>\n",
       "      <td>1</td>\n",
       "      <td>PE269</td>\n",
       "    </tr>\n",
       "    <tr>\n",
       "      <th>4</th>\n",
       "      <td>156</td>\n",
       "      <td>6385291</td>\n",
       "      <td>2</td>\n",
       "      <td>13/14</td>\n",
       "      <td>1</td>\n",
       "      <td>PE1173</td>\n",
       "    </tr>\n",
       "  </tbody>\n",
       "</table>\n",
       "</div>"
      ],
      "text/plain": [
       "   USI  UNIQUE_KEY  SEX FIS_YEAR  DIAG_STAGE  DIAG_CD\n",
       "0   98     6447017    2    13/14           1    PF445\n",
       "1   98     6554513    2    13/14           1     PJ22\n",
       "2  112     6518907    2    13/14           1    PD125\n",
       "3  131     6489769    2    13/14           1    PE269\n",
       "4  156     6385291    2    13/14           1   PE1173"
      ]
     },
     "execution_count": 3,
     "metadata": {},
     "output_type": "execute_result"
    }
   ],
   "source": [
    "diag.head()"
   ]
  },
  {
   "cell_type": "code",
   "execution_count": 4,
   "metadata": {},
   "outputs": [
    {
     "data": {
      "text/html": [
       "<div>\n",
       "<style scoped>\n",
       "    .dataframe tbody tr th:only-of-type {\n",
       "        vertical-align: middle;\n",
       "    }\n",
       "\n",
       "    .dataframe tbody tr th {\n",
       "        vertical-align: top;\n",
       "    }\n",
       "\n",
       "    .dataframe thead th {\n",
       "        text-align: right;\n",
       "    }\n",
       "</style>\n",
       "<table border=\"1\" class=\"dataframe\">\n",
       "  <thead>\n",
       "    <tr style=\"text-align: right;\">\n",
       "      <th></th>\n",
       "      <th>USI</th>\n",
       "      <th>UNIQUE_KEY</th>\n",
       "      <th>SEX</th>\n",
       "      <th>FIS_YEAR</th>\n",
       "      <th>PROC_START_DT</th>\n",
       "      <th>PROC_STAGE</th>\n",
       "      <th>PROC_CD</th>\n",
       "    </tr>\n",
       "  </thead>\n",
       "  <tbody>\n",
       "    <tr>\n",
       "      <th>0</th>\n",
       "      <td>112</td>\n",
       "      <td>6518907</td>\n",
       "      <td>2</td>\n",
       "      <td>13/14</td>\n",
       "      <td>2014-03-27</td>\n",
       "      <td>1</td>\n",
       "      <td>3209300</td>\n",
       "    </tr>\n",
       "    <tr>\n",
       "      <th>1</th>\n",
       "      <td>156</td>\n",
       "      <td>6387322</td>\n",
       "      <td>2</td>\n",
       "      <td>13/14</td>\n",
       "      <td>2013-07-08</td>\n",
       "      <td>1</td>\n",
       "      <td>9066500</td>\n",
       "    </tr>\n",
       "    <tr>\n",
       "      <th>2</th>\n",
       "      <td>156</td>\n",
       "      <td>6399365</td>\n",
       "      <td>2</td>\n",
       "      <td>13/14</td>\n",
       "      <td>2013-08-26</td>\n",
       "      <td>1</td>\n",
       "      <td>9066500</td>\n",
       "    </tr>\n",
       "    <tr>\n",
       "      <th>3</th>\n",
       "      <td>156</td>\n",
       "      <td>6409153</td>\n",
       "      <td>2</td>\n",
       "      <td>13/14</td>\n",
       "      <td>2013-10-21</td>\n",
       "      <td>1</td>\n",
       "      <td>3002300</td>\n",
       "    </tr>\n",
       "    <tr>\n",
       "      <th>4</th>\n",
       "      <td>156</td>\n",
       "      <td>6457995</td>\n",
       "      <td>2</td>\n",
       "      <td>13/14</td>\n",
       "      <td>2013-12-03</td>\n",
       "      <td>1</td>\n",
       "      <td>4436702</td>\n",
       "    </tr>\n",
       "  </tbody>\n",
       "</table>\n",
       "</div>"
      ],
      "text/plain": [
       "   USI  UNIQUE_KEY  SEX FIS_YEAR PROC_START_DT  PROC_STAGE  PROC_CD\n",
       "0  112     6518907    2    13/14    2014-03-27           1  3209300\n",
       "1  156     6387322    2    13/14    2013-07-08           1  9066500\n",
       "2  156     6399365    2    13/14    2013-08-26           1  9066500\n",
       "3  156     6409153    2    13/14    2013-10-21           1  3002300\n",
       "4  156     6457995    2    13/14    2013-12-03           1  4436702"
      ]
     },
     "execution_count": 4,
     "metadata": {},
     "output_type": "execute_result"
    }
   ],
   "source": [
    "proc.head()"
   ]
  },
  {
   "cell_type": "code",
   "execution_count": 5,
   "metadata": {},
   "outputs": [
    {
     "data": {
      "text/html": [
       "<div>\n",
       "<style scoped>\n",
       "    .dataframe tbody tr th:only-of-type {\n",
       "        vertical-align: middle;\n",
       "    }\n",
       "\n",
       "    .dataframe tbody tr th {\n",
       "        vertical-align: top;\n",
       "    }\n",
       "\n",
       "    .dataframe thead th {\n",
       "        text-align: right;\n",
       "    }\n",
       "</style>\n",
       "<table border=\"1\" class=\"dataframe\">\n",
       "  <thead>\n",
       "    <tr style=\"text-align: right;\">\n",
       "      <th></th>\n",
       "      <th>USI</th>\n",
       "      <th>UNIQUE_KEY</th>\n",
       "      <th>SEX</th>\n",
       "      <th>DATE_OF_BIRTH</th>\n",
       "      <th>ADM_DT</th>\n",
       "      <th>SEP_DT</th>\n",
       "      <th>CARE_TYP</th>\n",
       "      <th>ADM_TYP</th>\n",
       "      <th>ADM_SRC</th>\n",
       "      <th>FIS_YEAR</th>\n",
       "    </tr>\n",
       "  </thead>\n",
       "  <tbody>\n",
       "    <tr>\n",
       "      <th>0</th>\n",
       "      <td>98</td>\n",
       "      <td>6447017</td>\n",
       "      <td>2</td>\n",
       "      <td>1962-04-07</td>\n",
       "      <td>2013-11-11</td>\n",
       "      <td>2013-11-15</td>\n",
       "      <td>4</td>\n",
       "      <td>L</td>\n",
       "      <td>H</td>\n",
       "      <td>13/14</td>\n",
       "    </tr>\n",
       "    <tr>\n",
       "      <th>1</th>\n",
       "      <td>98</td>\n",
       "      <td>6554513</td>\n",
       "      <td>2</td>\n",
       "      <td>1962-04-07</td>\n",
       "      <td>2014-06-27</td>\n",
       "      <td>2014-06-27</td>\n",
       "      <td>4</td>\n",
       "      <td>C</td>\n",
       "      <td>H</td>\n",
       "      <td>13/14</td>\n",
       "    </tr>\n",
       "    <tr>\n",
       "      <th>2</th>\n",
       "      <td>112</td>\n",
       "      <td>6518907</td>\n",
       "      <td>2</td>\n",
       "      <td>1939-03-08</td>\n",
       "      <td>2014-03-27</td>\n",
       "      <td>2014-03-27</td>\n",
       "      <td>4</td>\n",
       "      <td>L</td>\n",
       "      <td>H</td>\n",
       "      <td>13/14</td>\n",
       "    </tr>\n",
       "    <tr>\n",
       "      <th>3</th>\n",
       "      <td>131</td>\n",
       "      <td>6489769</td>\n",
       "      <td>2</td>\n",
       "      <td>1948-10-20</td>\n",
       "      <td>2014-02-11</td>\n",
       "      <td>2014-02-11</td>\n",
       "      <td>4</td>\n",
       "      <td>L</td>\n",
       "      <td>H</td>\n",
       "      <td>13/14</td>\n",
       "    </tr>\n",
       "    <tr>\n",
       "      <th>4</th>\n",
       "      <td>156</td>\n",
       "      <td>6387322</td>\n",
       "      <td>2</td>\n",
       "      <td>1951-05-01</td>\n",
       "      <td>2013-07-07</td>\n",
       "      <td>2013-08-11</td>\n",
       "      <td>4</td>\n",
       "      <td>X</td>\n",
       "      <td>H</td>\n",
       "      <td>13/14</td>\n",
       "    </tr>\n",
       "  </tbody>\n",
       "</table>\n",
       "</div>"
      ],
      "text/plain": [
       "   USI  UNIQUE_KEY  SEX DATE_OF_BIRTH      ADM_DT      SEP_DT CARE_TYP  \\\n",
       "0   98     6447017    2    1962-04-07  2013-11-11  2013-11-15        4   \n",
       "1   98     6554513    2    1962-04-07  2014-06-27  2014-06-27        4   \n",
       "2  112     6518907    2    1939-03-08  2014-03-27  2014-03-27        4   \n",
       "3  131     6489769    2    1948-10-20  2014-02-11  2014-02-11        4   \n",
       "4  156     6387322    2    1951-05-01  2013-07-07  2013-08-11        4   \n",
       "\n",
       "  ADM_TYP ADM_SRC FIS_YEAR  \n",
       "0       L       H    13/14  \n",
       "1       C       H    13/14  \n",
       "2       L       H    13/14  \n",
       "3       L       H    13/14  \n",
       "4       X       H    13/14  "
      ]
     },
     "execution_count": 5,
     "metadata": {},
     "output_type": "execute_result"
    }
   ],
   "source": [
    "epis.head()"
   ]
  },
  {
   "cell_type": "markdown",
   "metadata": {},
   "source": [
    "## 2. Univariate Exploration\n",
    "### 2.1 Proportion of `SEX`\n",
    "I'll start by looking at the proportion of `SEX` among all patients. Let's create a DataFrame named `patient` to help our calculation."
   ]
  },
  {
   "cell_type": "code",
   "execution_count": 6,
   "metadata": {},
   "outputs": [
    {
     "name": "stderr",
     "output_type": "stream",
     "text": [
      "/Users/zhangyinghao/anaconda3/lib/python3.7/site-packages/ipykernel_launcher.py:3: SettingWithCopyWarning: \n",
      "A value is trying to be set on a copy of a slice from a DataFrame\n",
      "\n",
      "See the caveats in the documentation: http://pandas.pydata.org/pandas-docs/stable/indexing.html#indexing-view-versus-copy\n",
      "  This is separate from the ipykernel package so we can avoid doing imports until\n"
     ]
    },
    {
     "data": {
      "text/html": [
       "<div>\n",
       "<style scoped>\n",
       "    .dataframe tbody tr th:only-of-type {\n",
       "        vertical-align: middle;\n",
       "    }\n",
       "\n",
       "    .dataframe tbody tr th {\n",
       "        vertical-align: top;\n",
       "    }\n",
       "\n",
       "    .dataframe thead th {\n",
       "        text-align: right;\n",
       "    }\n",
       "</style>\n",
       "<table border=\"1\" class=\"dataframe\">\n",
       "  <thead>\n",
       "    <tr style=\"text-align: right;\">\n",
       "      <th></th>\n",
       "      <th>USI</th>\n",
       "      <th>SEX</th>\n",
       "    </tr>\n",
       "  </thead>\n",
       "  <tbody>\n",
       "    <tr>\n",
       "      <th>0</th>\n",
       "      <td>98</td>\n",
       "      <td>2</td>\n",
       "    </tr>\n",
       "    <tr>\n",
       "      <th>1</th>\n",
       "      <td>112</td>\n",
       "      <td>2</td>\n",
       "    </tr>\n",
       "    <tr>\n",
       "      <th>2</th>\n",
       "      <td>131</td>\n",
       "      <td>2</td>\n",
       "    </tr>\n",
       "    <tr>\n",
       "      <th>3</th>\n",
       "      <td>156</td>\n",
       "      <td>2</td>\n",
       "    </tr>\n",
       "    <tr>\n",
       "      <th>4</th>\n",
       "      <td>159</td>\n",
       "      <td>2</td>\n",
       "    </tr>\n",
       "  </tbody>\n",
       "</table>\n",
       "</div>"
      ],
      "text/plain": [
       "   USI  SEX\n",
       "0   98    2\n",
       "1  112    2\n",
       "2  131    2\n",
       "3  156    2\n",
       "4  159    2"
      ]
     },
     "execution_count": 6,
     "metadata": {},
     "output_type": "execute_result"
    }
   ],
   "source": [
    "# create a dataframe called 'patient'\n",
    "patient = diag[['USI', 'SEX']]\n",
    "patient.drop_duplicates(inplace=True)\n",
    "patient.reset_index(drop=True, inplace=True)\n",
    "patient.head()"
   ]
  },
  {
   "cell_type": "code",
   "execution_count": 7,
   "metadata": {},
   "outputs": [
    {
     "data": {
      "image/png": "[encoded data removed]",
      "text/plain": [
       "<Figure size 576x360 with 1 Axes>"
      ]
     },
     "metadata": {
      "needs_background": "light"
     },
     "output_type": "display_data"
    }
   ],
   "source": [
    "# create the plot of 'SEX'\n",
    "plt.figure(figsize=[8, 5])\n",
    "base_color = sns.color_palette()[0]\n",
    "sns.countplot(data=patient, x='SEX', color=base_color)\n",
    "plt.xticks([0, 1], ['Male', 'Female'])\n",
    "plt.yticks([1e4, 2e4, 3e4, 4e4, 5e4], ['10k', '20k', '30k', '40k', '50k'])\n",
    "plt.xlabel('Gender', fontsize=12)\n",
    "plt.ylabel('Patient Number', fontsize=12)\n",
    "plt.title('Proportion of Gender', fontsize=14);"
   ]
  },
  {
   "cell_type": "markdown",
   "metadata": {},
   "source": [
    "Among all patients within the dataset, the number of male and female does not have many differences. The number of male patients is slightly below 50,000, while the number of female patients is slightly below 45,000. There are no records with regard to other genders.\n",
    "\n",
    "### 2.2 Trend in `FIS_YEAR`\n",
    "\n",
    "Now, let's take a look at `FIS_YEAR` - how the number of patients and admissions changed throughout the fiscal year. Let's create another DataFrame callled `adm` to help our calculation."
   ]
  },
  {
   "cell_type": "code",
   "execution_count": 8,
   "metadata": {},
   "outputs": [
    {
     "name": "stderr",
     "output_type": "stream",
     "text": [
      "/Users/zhangyinghao/anaconda3/lib/python3.7/site-packages/ipykernel_launcher.py:3: SettingWithCopyWarning: \n",
      "A value is trying to be set on a copy of a slice from a DataFrame\n",
      "\n",
      "See the caveats in the documentation: http://pandas.pydata.org/pandas-docs/stable/indexing.html#indexing-view-versus-copy\n",
      "  This is separate from the ipykernel package so we can avoid doing imports until\n",
      "/Users/zhangyinghao/anaconda3/lib/python3.7/site-packages/ipykernel_launcher.py:8: SettingWithCopyWarning: \n",
      "A value is trying to be set on a copy of a slice from a DataFrame\n",
      "\n",
      "See the caveats in the documentation: http://pandas.pydata.org/pandas-docs/stable/indexing.html#indexing-view-versus-copy\n",
      "  \n"
     ]
    }
   ],
   "source": [
    "# create a dataframe called 'patient_fis'\n",
    "patient_fis = diag[['USI', 'FIS_YEAR']]\n",
    "patient_fis.drop_duplicates(inplace=True)\n",
    "patient_fis.reset_index(drop=True, inplace=True)\n",
    "\n",
    "# create a dataframe called 'adm_fis'\n",
    "adm_fis = diag[['UNIQUE_KEY', 'FIS_YEAR']]\n",
    "adm_fis.drop_duplicates(inplace=True)\n",
    "adm_fis.reset_index(drop=True, inplace=True)"
   ]
  },
  {
   "cell_type": "code",
   "execution_count": 9,
   "metadata": {},
   "outputs": [
    {
     "data": {
      "image/png": "[encoded data removed]",
      "text/plain": [
       "<Figure size 576x720 with 2 Axes>"
      ]
     },
     "metadata": {
      "needs_background": "light"
     },
     "output_type": "display_data"
    }
   ],
   "source": [
    "# create the plot of 'FIS_YEAR'\n",
    "plt.figure(figsize=[8, 10])\n",
    "plt.subplot(2, 1, 1)\n",
    "base_color = sns.color_palette()[0]\n",
    "sns.countplot(data=patient_fis, x='FIS_YEAR', color=base_color)\n",
    "plt.yticks([5e3, 1e4, 1.5e4, 2e4, 2.5e4, 3e4, 3.5e4, 4e4], ['5k', '10k', '15k', '20k', '25k', '30k', '35k', '40k'])\n",
    "plt.xlabel('Fiscal Year', fontsize=12)\n",
    "plt.ylabel('Patient Number', fontsize=12)\n",
    "plt.title('Patient Trend Over the Year', fontsize=14)\n",
    "\n",
    "plt.subplot(2, 1, 2)\n",
    "sns.countplot(data=adm_fis, x='FIS_YEAR', color=base_color)\n",
    "plt.yticks([2e4, 4e4, 6e4, 8e4], ['20k', '40k', '60k', '80k'])\n",
    "plt.xlabel('Fiscal Year', fontsize=12)\n",
    "plt.ylabel('Adimission Number', fontsize=12)\n",
    "plt.title('Admission Trend Over the Year', fontsize=14);"
   ]
  },
  {
   "cell_type": "code",
   "execution_count": 10,
   "metadata": {},
   "outputs": [
    {
     "data": {
      "image/png": "[encoded data removed]",
      "text/plain": [
       "<Figure size 576x360 with 1 Axes>"
      ]
     },
     "metadata": {
      "needs_background": "light"
     },
     "output_type": "display_data"
    }
   ],
   "source": [
    "plt.figure(figsize=[8, 5])\n",
    "base_color = sns.color_palette()[0]\n",
    "sns.countplot(data=patient_fis, x='FIS_YEAR', color=base_color)\n",
    "plt.yticks([5e3, 1e4, 1.5e4, 2e4, 2.5e4, 3e4, 3.5e4, 4e4], ['5k', '10k', '15k', '20k', '25k', '30k', '35k', '40k'])\n",
    "plt.xlabel('Fiscal Year', fontsize=12)\n",
    "plt.ylabel('Patient Number', fontsize=12)\n",
    "plt.title('Patient Trend Over the Year', fontsize=14);"
   ]
  },
  {
   "cell_type": "code",
   "execution_count": 11,
   "metadata": {},
   "outputs": [
    {
     "data": {
      "image/png": "[encoded data removed]",
      "text/plain": [
       "<Figure size 576x360 with 1 Axes>"
      ]
     },
     "metadata": {
      "needs_background": "light"
     },
     "output_type": "display_data"
    }
   ],
   "source": [
    "plt.figure(figsize=[8, 5])\n",
    "sns.countplot(data=adm_fis, x='FIS_YEAR', color=base_color)\n",
    "plt.yticks([2e4, 4e4, 6e4, 8e4, 10e4], ['20k', '40k', '60k', '80k', '100k'])\n",
    "plt.xlabel('Fiscal Year', fontsize=12)\n",
    "plt.ylabel('Adimission Number', fontsize=12)\n",
    "plt.title('Admission Trend Over the Year', fontsize=14);"
   ]
  },
  {
   "cell_type": "markdown",
   "metadata": {},
   "source": [
    "From 2013 to 2016, there is a steady increase in the number of both cancer patients and admissions. \n",
    "\n",
    "### 2.3 Cancer Proportion From `DIAG_CD_01`\n",
    "Now Let's take a look at what the proportion of cancer is among patients. In order to solve this question, we need to calculate the frequency of cancer based on patients, that is, if one patient is diagnosed with a cancer in two admissions, we only calculate the frequency once. Then, we plot the proportion with each cancer type followed by `P`, that is, the cancer that patient got before admission into the hospital. We only care about the cancer type from `DIAG_CD_01` because this is the major cancer diagnosis that we concern. Also, since there are so many cancer types, we only care about the top-20 most frequent cancer type."
   ]
  },
  {
   "cell_type": "code",
   "execution_count": 12,
   "metadata": {},
   "outputs": [
    {
     "data": {
      "text/html": [
       "<div>\n",
       "<style scoped>\n",
       "    .dataframe tbody tr th:only-of-type {\n",
       "        vertical-align: middle;\n",
       "    }\n",
       "\n",
       "    .dataframe tbody tr th {\n",
       "        vertical-align: top;\n",
       "    }\n",
       "\n",
       "    .dataframe thead th {\n",
       "        text-align: right;\n",
       "    }\n",
       "</style>\n",
       "<table border=\"1\" class=\"dataframe\">\n",
       "  <thead>\n",
       "    <tr style=\"text-align: right;\">\n",
       "      <th></th>\n",
       "      <th>USI</th>\n",
       "      <th>DIAG_CD</th>\n",
       "    </tr>\n",
       "  </thead>\n",
       "  <tbody>\n",
       "    <tr>\n",
       "      <th>0</th>\n",
       "      <td>98</td>\n",
       "      <td>F445</td>\n",
       "    </tr>\n",
       "    <tr>\n",
       "      <th>1</th>\n",
       "      <td>98</td>\n",
       "      <td>J22</td>\n",
       "    </tr>\n",
       "    <tr>\n",
       "      <th>2</th>\n",
       "      <td>112</td>\n",
       "      <td>D125</td>\n",
       "    </tr>\n",
       "    <tr>\n",
       "      <th>3</th>\n",
       "      <td>131</td>\n",
       "      <td>E269</td>\n",
       "    </tr>\n",
       "    <tr>\n",
       "      <th>4</th>\n",
       "      <td>156</td>\n",
       "      <td>E1173</td>\n",
       "    </tr>\n",
       "  </tbody>\n",
       "</table>\n",
       "</div>"
      ],
      "text/plain": [
       "   USI DIAG_CD\n",
       "0   98    F445\n",
       "1   98     J22\n",
       "2  112    D125\n",
       "3  131    E269\n",
       "4  156   E1173"
      ]
     },
     "execution_count": 12,
     "metadata": {},
     "output_type": "execute_result"
    }
   ],
   "source": [
    "# create a new dataframe named 'cancer'\n",
    "cancer = diag.query('DIAG_STAGE == 1')[['USI', 'DIAG_CD']]\n",
    "cancer.DIAG_CD = cancer.DIAG_CD.str[2:]\n",
    "cancer.drop_duplicates(inplace=True)\n",
    "cancer.head()"
   ]
  },
  {
   "cell_type": "markdown",
   "metadata": {},
   "source": [
    "In order to illustrate the name of each cancer type, we need to map the `DIAG_CD` with the name of cancer. "
   ]
  },
  {
   "cell_type": "code",
   "execution_count": 13,
   "metadata": {},
   "outputs": [
    {
     "data": {
      "text/html": [
       "<div>\n",
       "<style scoped>\n",
       "    .dataframe tbody tr th:only-of-type {\n",
       "        vertical-align: middle;\n",
       "    }\n",
       "\n",
       "    .dataframe tbody tr th {\n",
       "        vertical-align: top;\n",
       "    }\n",
       "\n",
       "    .dataframe thead th {\n",
       "        text-align: right;\n",
       "    }\n",
       "</style>\n",
       "<table border=\"1\" class=\"dataframe\">\n",
       "  <thead>\n",
       "    <tr style=\"text-align: right;\">\n",
       "      <th></th>\n",
       "      <th>DIAG_CD</th>\n",
       "      <th>ASCII_SHORT_DESC</th>\n",
       "    </tr>\n",
       "  </thead>\n",
       "  <tbody>\n",
       "    <tr>\n",
       "      <th>0</th>\n",
       "      <td>A00</td>\n",
       "      <td>Cholera</td>\n",
       "    </tr>\n",
       "    <tr>\n",
       "      <th>1</th>\n",
       "      <td>A001</td>\n",
       "      <td>Cholera dt biovar eltor</td>\n",
       "    </tr>\n",
       "    <tr>\n",
       "      <th>2</th>\n",
       "      <td>A01</td>\n",
       "      <td>Typhoid and paratyphoid fevers</td>\n",
       "    </tr>\n",
       "    <tr>\n",
       "      <th>3</th>\n",
       "      <td>A011</td>\n",
       "      <td>Paratyphoid fever A</td>\n",
       "    </tr>\n",
       "    <tr>\n",
       "      <th>4</th>\n",
       "      <td>A013</td>\n",
       "      <td>Paratyphoid fever C</td>\n",
       "    </tr>\n",
       "  </tbody>\n",
       "</table>\n",
       "</div>"
      ],
      "text/plain": [
       "  DIAG_CD                ASCII_SHORT_DESC\n",
       "0     A00                         Cholera\n",
       "1    A001         Cholera dt biovar eltor\n",
       "2     A01  Typhoid and paratyphoid fevers\n",
       "3    A011             Paratyphoid fever A\n",
       "4    A013             Paratyphoid fever C"
      ]
     },
     "execution_count": 13,
     "metadata": {},
     "output_type": "execute_result"
    }
   ],
   "source": [
    "# read diagnosis mapping table\n",
    "diag_map = pd.read_csv('DIAG_ICD10.csv')[['CODE_ID', 'ASCII_SHORT_DESC']]\n",
    "diag_map.rename(columns={'CODE_ID': 'DIAG_CD'}, inplace=True)\n",
    "diag_map.head()"
   ]
  },
  {
   "cell_type": "code",
   "execution_count": 14,
   "metadata": {},
   "outputs": [
    {
     "data": {
      "text/html": [
       "<div>\n",
       "<style scoped>\n",
       "    .dataframe tbody tr th:only-of-type {\n",
       "        vertical-align: middle;\n",
       "    }\n",
       "\n",
       "    .dataframe tbody tr th {\n",
       "        vertical-align: top;\n",
       "    }\n",
       "\n",
       "    .dataframe thead th {\n",
       "        text-align: right;\n",
       "    }\n",
       "</style>\n",
       "<table border=\"1\" class=\"dataframe\">\n",
       "  <thead>\n",
       "    <tr style=\"text-align: right;\">\n",
       "      <th></th>\n",
       "      <th>USI</th>\n",
       "      <th>DIAG_CD</th>\n",
       "      <th>ASCII_SHORT_DESC</th>\n",
       "    </tr>\n",
       "  </thead>\n",
       "  <tbody>\n",
       "    <tr>\n",
       "      <th>0</th>\n",
       "      <td>98</td>\n",
       "      <td>F445</td>\n",
       "      <td>Dissociative convulsions</td>\n",
       "    </tr>\n",
       "    <tr>\n",
       "      <th>1</th>\n",
       "      <td>13390</td>\n",
       "      <td>F445</td>\n",
       "      <td>Dissociative convulsions</td>\n",
       "    </tr>\n",
       "    <tr>\n",
       "      <th>2</th>\n",
       "      <td>13397</td>\n",
       "      <td>F445</td>\n",
       "      <td>Dissociative convulsions</td>\n",
       "    </tr>\n",
       "    <tr>\n",
       "      <th>3</th>\n",
       "      <td>22736</td>\n",
       "      <td>F445</td>\n",
       "      <td>Dissociative convulsions</td>\n",
       "    </tr>\n",
       "    <tr>\n",
       "      <th>4</th>\n",
       "      <td>52318</td>\n",
       "      <td>F445</td>\n",
       "      <td>Dissociative convulsions</td>\n",
       "    </tr>\n",
       "  </tbody>\n",
       "</table>\n",
       "</div>"
      ],
      "text/plain": [
       "     USI DIAG_CD          ASCII_SHORT_DESC\n",
       "0     98    F445  Dissociative convulsions\n",
       "1  13390    F445  Dissociative convulsions\n",
       "2  13397    F445  Dissociative convulsions\n",
       "3  22736    F445  Dissociative convulsions\n",
       "4  52318    F445  Dissociative convulsions"
      ]
     },
     "execution_count": 14,
     "metadata": {},
     "output_type": "execute_result"
    }
   ],
   "source": [
    "# combine these two datasets into a new one\n",
    "cancer_name = cancer.merge(diag_map, on='DIAG_CD')\n",
    "cancer_name.head()"
   ]
  },
  {
   "cell_type": "code",
   "execution_count": 15,
   "metadata": {},
   "outputs": [
    {
     "data": {
      "image/png": "[encoded data removed]",
      "text/plain": [
       "<Figure size 576x360 with 1 Axes>"
      ]
     },
     "metadata": {
      "needs_background": "light"
     },
     "output_type": "display_data"
    }
   ],
   "source": [
    "# set the preliminary parameters for the plot\n",
    "cancer_count = cancer_name.ASCII_SHORT_DESC.value_counts()\n",
    "cancer_order = cancer_count.index\n",
    "cancer_total = cancer_name.shape[0]\n",
    "cancer_max = cancer_count[0]\n",
    "cancer_max_prop = cancer_max / cancer_total\n",
    "\n",
    "# set the ticks for the plot\n",
    "tick_props = np.arange(0, cancer_max_prop+0.001, 0.002)\n",
    "tick_names = ['{:0.1f}%'.format(v*100) for v in tick_props]\n",
    "\n",
    "# creat the bar chart for the top 20 cancer\n",
    "plt.figure(figsize=[8, 5])\n",
    "base_color = sns.color_palette()[0]\n",
    "top_10_cancer_order = cancer_order[0:10]\n",
    "\n",
    "sns.countplot(data=cancer_name, y='ASCII_SHORT_DESC', color=base_color, order=top_10_cancer_order)\n",
    "plt.xticks(tick_props*cancer_total, tick_names)\n",
    "plt.title('The Top-10 Frequent Cancer (DIAG_CD_01)', fontsize=14)\n",
    "plt.xlabel('Proportion', fontsize=12)\n",
    "plt.ylabel('Cancer Type (DIAG_CD_01)', fontsize=12);\n",
    "\n",
    "# add percentage text to each cancer\n",
    "for i in range(10):\n",
    "    count = cancer_count[i]\n",
    "    pct_string = '{:0.1f}%'.format(count*100/cancer_total)\n",
    "    plt.text(count+5, i, pct_string, va='center')\n",
    "\n",
    "plt.show()"
   ]
  },
  {
   "cell_type": "markdown",
   "metadata": {},
   "source": [
    "From the above result, the `Chest pain unspecified` occurred as nearly twice as `Atheroscl heart dis native coron artery`, becoming the most frequent cancer in this dataset. The proportion of other cancer types does not have huge differences.\n",
    "\n",
    "### 2.4 Procedure Proportion From `PROC_CD_01`\n",
    "The principle of calculating procedure proportion is the same as above."
   ]
  },
  {
   "cell_type": "code",
   "execution_count": 16,
   "metadata": {},
   "outputs": [
    {
     "data": {
      "text/html": [
       "<div>\n",
       "<style scoped>\n",
       "    .dataframe tbody tr th:only-of-type {\n",
       "        vertical-align: middle;\n",
       "    }\n",
       "\n",
       "    .dataframe tbody tr th {\n",
       "        vertical-align: top;\n",
       "    }\n",
       "\n",
       "    .dataframe thead th {\n",
       "        text-align: right;\n",
       "    }\n",
       "</style>\n",
       "<table border=\"1\" class=\"dataframe\">\n",
       "  <thead>\n",
       "    <tr style=\"text-align: right;\">\n",
       "      <th></th>\n",
       "      <th>USI</th>\n",
       "      <th>PROC_CD</th>\n",
       "    </tr>\n",
       "  </thead>\n",
       "  <tbody>\n",
       "    <tr>\n",
       "      <th>0</th>\n",
       "      <td>112</td>\n",
       "      <td>3209300</td>\n",
       "    </tr>\n",
       "    <tr>\n",
       "      <th>1</th>\n",
       "      <td>156</td>\n",
       "      <td>9066500</td>\n",
       "    </tr>\n",
       "    <tr>\n",
       "      <th>3</th>\n",
       "      <td>156</td>\n",
       "      <td>3002300</td>\n",
       "    </tr>\n",
       "    <tr>\n",
       "      <th>4</th>\n",
       "      <td>156</td>\n",
       "      <td>4436702</td>\n",
       "    </tr>\n",
       "    <tr>\n",
       "      <th>5</th>\n",
       "      <td>201</td>\n",
       "      <td>3656100</td>\n",
       "    </tr>\n",
       "  </tbody>\n",
       "</table>\n",
       "</div>"
      ],
      "text/plain": [
       "   USI  PROC_CD\n",
       "0  112  3209300\n",
       "1  156  9066500\n",
       "3  156  3002300\n",
       "4  156  4436702\n",
       "5  201  3656100"
      ]
     },
     "execution_count": 16,
     "metadata": {},
     "output_type": "execute_result"
    }
   ],
   "source": [
    "# create a new dataframe named 'treatment'\n",
    "treatment = proc.query('PROC_STAGE == 1')[['USI', 'PROC_CD']]\n",
    "treatment.drop_duplicates(inplace=True)\n",
    "treatment.head()"
   ]
  },
  {
   "cell_type": "code",
   "execution_count": 17,
   "metadata": {},
   "outputs": [
    {
     "data": {
      "text/html": [
       "<div>\n",
       "<style scoped>\n",
       "    .dataframe tbody tr th:only-of-type {\n",
       "        vertical-align: middle;\n",
       "    }\n",
       "\n",
       "    .dataframe tbody tr th {\n",
       "        vertical-align: top;\n",
       "    }\n",
       "\n",
       "    .dataframe thead th {\n",
       "        text-align: right;\n",
       "    }\n",
       "</style>\n",
       "<table border=\"1\" class=\"dataframe\">\n",
       "  <thead>\n",
       "    <tr style=\"text-align: right;\">\n",
       "      <th></th>\n",
       "      <th>PROC_CD</th>\n",
       "      <th>ASCII_SHORT_DESC</th>\n",
       "    </tr>\n",
       "  </thead>\n",
       "  <tbody>\n",
       "    <tr>\n",
       "      <th>0</th>\n",
       "      <td>1100300</td>\n",
       "      <td>Electroencephalography of &gt;= 3 hours</td>\n",
       "    </tr>\n",
       "    <tr>\n",
       "      <th>1</th>\n",
       "      <td>1100900</td>\n",
       "      <td>Electrocorticography</td>\n",
       "    </tr>\n",
       "    <tr>\n",
       "      <th>2</th>\n",
       "      <td>1101201</td>\n",
       "      <td>Conduction studies on 1 nerve</td>\n",
       "    </tr>\n",
       "    <tr>\n",
       "      <th>3</th>\n",
       "      <td>1101500</td>\n",
       "      <td>Conduction studies on 2 or 3 nerves</td>\n",
       "    </tr>\n",
       "    <tr>\n",
       "      <th>4</th>\n",
       "      <td>1101800</td>\n",
       "      <td>Conduction studies on &gt;= 4 nerves</td>\n",
       "    </tr>\n",
       "  </tbody>\n",
       "</table>\n",
       "</div>"
      ],
      "text/plain": [
       "   PROC_CD                      ASCII_SHORT_DESC\n",
       "0  1100300  Electroencephalography of >= 3 hours\n",
       "1  1100900                  Electrocorticography\n",
       "2  1101201         Conduction studies on 1 nerve\n",
       "3  1101500   Conduction studies on 2 or 3 nerves\n",
       "4  1101800     Conduction studies on >= 4 nerves"
      ]
     },
     "execution_count": 17,
     "metadata": {},
     "output_type": "execute_result"
    }
   ],
   "source": [
    "# read procedure mapping table\n",
    "proc_map = pd.read_csv('PROC_ICD10.csv')[['CODE_ID', 'ASCII_SHORT_DESC']]\n",
    "proc_map.rename(columns={'CODE_ID': 'PROC_CD'}, inplace=True)\n",
    "proc_map.PROC_CD = proc_map.PROC_CD.apply(str)\n",
    "proc_map.head()"
   ]
  },
  {
   "cell_type": "code",
   "execution_count": 18,
   "metadata": {},
   "outputs": [
    {
     "data": {
      "text/html": [
       "<div>\n",
       "<style scoped>\n",
       "    .dataframe tbody tr th:only-of-type {\n",
       "        vertical-align: middle;\n",
       "    }\n",
       "\n",
       "    .dataframe tbody tr th {\n",
       "        vertical-align: top;\n",
       "    }\n",
       "\n",
       "    .dataframe thead th {\n",
       "        text-align: right;\n",
       "    }\n",
       "</style>\n",
       "<table border=\"1\" class=\"dataframe\">\n",
       "  <thead>\n",
       "    <tr style=\"text-align: right;\">\n",
       "      <th></th>\n",
       "      <th>USI</th>\n",
       "      <th>PROC_CD</th>\n",
       "      <th>ASCII_SHORT_DESC</th>\n",
       "    </tr>\n",
       "  </thead>\n",
       "  <tbody>\n",
       "    <tr>\n",
       "      <th>0</th>\n",
       "      <td>112</td>\n",
       "      <td>3209300</td>\n",
       "      <td>Fibreoptic colonoscopy to caecum w PP</td>\n",
       "    </tr>\n",
       "    <tr>\n",
       "      <th>1</th>\n",
       "      <td>720</td>\n",
       "      <td>3209300</td>\n",
       "      <td>Fibreoptic colonoscopy to caecum w PP</td>\n",
       "    </tr>\n",
       "    <tr>\n",
       "      <th>2</th>\n",
       "      <td>1876</td>\n",
       "      <td>3209300</td>\n",
       "      <td>Fibreoptic colonoscopy to caecum w PP</td>\n",
       "    </tr>\n",
       "    <tr>\n",
       "      <th>3</th>\n",
       "      <td>2692</td>\n",
       "      <td>3209300</td>\n",
       "      <td>Fibreoptic colonoscopy to caecum w PP</td>\n",
       "    </tr>\n",
       "    <tr>\n",
       "      <th>4</th>\n",
       "      <td>3081</td>\n",
       "      <td>3209300</td>\n",
       "      <td>Fibreoptic colonoscopy to caecum w PP</td>\n",
       "    </tr>\n",
       "  </tbody>\n",
       "</table>\n",
       "</div>"
      ],
      "text/plain": [
       "    USI  PROC_CD                       ASCII_SHORT_DESC\n",
       "0   112  3209300  Fibreoptic colonoscopy to caecum w PP\n",
       "1   720  3209300  Fibreoptic colonoscopy to caecum w PP\n",
       "2  1876  3209300  Fibreoptic colonoscopy to caecum w PP\n",
       "3  2692  3209300  Fibreoptic colonoscopy to caecum w PP\n",
       "4  3081  3209300  Fibreoptic colonoscopy to caecum w PP"
      ]
     },
     "execution_count": 18,
     "metadata": {},
     "output_type": "execute_result"
    }
   ],
   "source": [
    "# combine these two datasets into a new one\n",
    "treatment_name = treatment.merge(proc_map, on='PROC_CD')\n",
    "treatment_name.head()"
   ]
  },
  {
   "cell_type": "code",
   "execution_count": 19,
   "metadata": {},
   "outputs": [
    {
     "data": {
      "image/png": "[encoded data removed]",
      "text/plain": [
       "<Figure size 576x360 with 1 Axes>"
      ]
     },
     "metadata": {
      "needs_background": "light"
     },
     "output_type": "display_data"
    }
   ],
   "source": [
    "# set the preliminary parameters for the plot\n",
    "treatment_count = treatment_name.ASCII_SHORT_DESC.value_counts()\n",
    "treatment_order = treatment_count.index\n",
    "treatment_total = treatment_name.shape[0]\n",
    "treatment_max = treatment_count[0]\n",
    "treatment_max_prop = treatment_max / treatment_total\n",
    "\n",
    "# set the ticks for the plot\n",
    "tick_props = np.arange(0, treatment_max_prop+0.01, 0.01)\n",
    "tick_names = ['{:0.1f}%'.format(v*100) for v in tick_props]\n",
    "\n",
    "# creat the bar chart for the top 20 cancer\n",
    "plt.figure(figsize=[8, 5])\n",
    "base_color = sns.color_palette()[0]\n",
    "top_10_treatment_order = treatment_order[0:10]\n",
    "\n",
    "sns.countplot(data=treatment_name, y='ASCII_SHORT_DESC', color=base_color, order=top_10_treatment_order)\n",
    "plt.xticks(tick_props*treatment_total, tick_names)\n",
    "plt.title('The Top-10 Frequent Treatment (PROC_CD_01)', fontsize=14)\n",
    "plt.xlabel('Proportion', fontsize=12)\n",
    "plt.ylabel('Procedure Type (PROC_CD_01)', fontsize=12);\n",
    "\n",
    "# add percentage text to each cancer\n",
    "for i in range(10):\n",
    "    count = treatment_count[i]\n",
    "    pct_string = '{:0.1f}%'.format(count*100/treatment_total)\n",
    "    plt.text(count+5, i, pct_string, va='center')\n",
    "\n",
    "plt.show()"
   ]
  },
  {
   "cell_type": "markdown",
   "metadata": {},
   "source": [
    "From the figure above, the top-2 frequent treatments are `Panendoscopy to duodenum with biopsy` and `Coronary angiography w left heart cath`, both of them as twice as the third and fourth ones. After `Nasendoscopy`, the proportion remains nearly the same. \n",
    "\n",
    "Comparing these two graphs, we can find that the treatment does not perfectly correspond to the diagnosis result.\n",
    "\n",
    "### 2.5 Proportion of `CARE_TYP`,\t`ADM_TYP`, and `ADM_SRC`\n",
    "Let's look at the proportion of `CARE_TYP`,\t`ADM_TYP`, and `ADM_SRC`."
   ]
  },
  {
   "cell_type": "code",
   "execution_count": 20,
   "metadata": {},
   "outputs": [
    {
     "data": {
      "image/png": "[encoded data removed]",
      "text/plain": [
       "<Figure size 576x1080 with 3 Axes>"
      ]
     },
     "metadata": {
      "needs_background": "light"
     },
     "output_type": "display_data"
    }
   ],
   "source": [
    "# create the plot of 'CARE_TYP', 'ADM_TYP', and 'ADM_SRC'\n",
    "plt.figure(figsize=[8, 15])\n",
    "plt.subplot(3, 1, 1)\n",
    "base_color = sns.color_palette()[0]\n",
    "sns.countplot(data=epis, x='CARE_TYP', color=base_color)\n",
    "plt.yticks([5e4, 10e4, 15e4, 20e4, 25e4], ['50k', '100k', '150k', '200k', '250k'])\n",
    "plt.ylabel('Admissions')\n",
    "\n",
    "plt.subplot(3, 1, 2)\n",
    "sns.countplot(data=epis, x='ADM_TYP', color=base_color)\n",
    "plt.yticks([2e4, 4e4, 6e4, 8e4, 10e4], ['20k', '40k', '60k', '80k', '100k'])\n",
    "plt.ylabel('Adimissions')\n",
    "\n",
    "plt.subplot(3, 1, 3)\n",
    "sns.countplot(data=epis, x='ADM_SRC', color=base_color)\n",
    "plt.yticks([5e4, 10e4, 15e4, 20e4, 25e4], ['50k', '100k', '150k', '200k', '250k'])\n",
    "plt.ylabel('Adimissions');"
   ]
  },
  {
   "cell_type": "markdown",
   "metadata": {},
   "source": [
    "The most prevalent `CARE_TYP` is `4`, far outnumbering the other care types. `C` and `P` account for the two largest proportion in `ADM_TYP`, while `H` accounts for the largest proportion in `ADM_SRC`. \n",
    "\n",
    "### 2.6 The Proportion of Birth Year\n",
    "It seems valuable to discover the proportion of the birth year of the patient. In order to do this, we need to categorize different years into one decade. We will create a DataFrame named `patient_2` for our analysis."
   ]
  },
  {
   "cell_type": "code",
   "execution_count": 21,
   "metadata": {},
   "outputs": [
    {
     "name": "stderr",
     "output_type": "stream",
     "text": [
      "/Users/zhangyinghao/anaconda3/lib/python3.7/site-packages/ipykernel_launcher.py:3: SettingWithCopyWarning: \n",
      "A value is trying to be set on a copy of a slice from a DataFrame\n",
      "\n",
      "See the caveats in the documentation: http://pandas.pydata.org/pandas-docs/stable/indexing.html#indexing-view-versus-copy\n",
      "  This is separate from the ipykernel package so we can avoid doing imports until\n",
      "/Users/zhangyinghao/anaconda3/lib/python3.7/site-packages/ipykernel_launcher.py:5: SettingWithCopyWarning: \n",
      "A value is trying to be set on a copy of a slice from a DataFrame.\n",
      "Try using .loc[row_indexer,col_indexer] = value instead\n",
      "\n",
      "See the caveats in the documentation: http://pandas.pydata.org/pandas-docs/stable/indexing.html#indexing-view-versus-copy\n",
      "  \"\"\"\n",
      "/Users/zhangyinghao/anaconda3/lib/python3.7/site-packages/pandas/core/generic.py:4405: SettingWithCopyWarning: \n",
      "A value is trying to be set on a copy of a slice from a DataFrame.\n",
      "Try using .loc[row_indexer,col_indexer] = value instead\n",
      "\n",
      "See the caveats in the documentation: http://pandas.pydata.org/pandas-docs/stable/indexing.html#indexing-view-versus-copy\n",
      "  self[name] = value\n"
     ]
    },
    {
     "data": {
      "text/html": [
       "<div>\n",
       "<style scoped>\n",
       "    .dataframe tbody tr th:only-of-type {\n",
       "        vertical-align: middle;\n",
       "    }\n",
       "\n",
       "    .dataframe tbody tr th {\n",
       "        vertical-align: top;\n",
       "    }\n",
       "\n",
       "    .dataframe thead th {\n",
       "        text-align: right;\n",
       "    }\n",
       "</style>\n",
       "<table border=\"1\" class=\"dataframe\">\n",
       "  <thead>\n",
       "    <tr style=\"text-align: right;\">\n",
       "      <th></th>\n",
       "      <th>USI</th>\n",
       "      <th>DATE_OF_BIRTH</th>\n",
       "      <th>YEAR_OF_BIRTH</th>\n",
       "    </tr>\n",
       "  </thead>\n",
       "  <tbody>\n",
       "    <tr>\n",
       "      <th>0</th>\n",
       "      <td>98</td>\n",
       "      <td>1962-04-07</td>\n",
       "      <td>1962</td>\n",
       "    </tr>\n",
       "    <tr>\n",
       "      <th>1</th>\n",
       "      <td>112</td>\n",
       "      <td>1939-03-08</td>\n",
       "      <td>1939</td>\n",
       "    </tr>\n",
       "    <tr>\n",
       "      <th>2</th>\n",
       "      <td>131</td>\n",
       "      <td>1948-10-20</td>\n",
       "      <td>1948</td>\n",
       "    </tr>\n",
       "    <tr>\n",
       "      <th>3</th>\n",
       "      <td>156</td>\n",
       "      <td>1951-05-01</td>\n",
       "      <td>1951</td>\n",
       "    </tr>\n",
       "    <tr>\n",
       "      <th>4</th>\n",
       "      <td>159</td>\n",
       "      <td>1954-01-15</td>\n",
       "      <td>1954</td>\n",
       "    </tr>\n",
       "  </tbody>\n",
       "</table>\n",
       "</div>"
      ],
      "text/plain": [
       "   USI DATE_OF_BIRTH  YEAR_OF_BIRTH\n",
       "0   98    1962-04-07           1962\n",
       "1  112    1939-03-08           1939\n",
       "2  131    1948-10-20           1948\n",
       "3  156    1951-05-01           1951\n",
       "4  159    1954-01-15           1954"
      ]
     },
     "execution_count": 21,
     "metadata": {},
     "output_type": "execute_result"
    }
   ],
   "source": [
    "# create a dataframe called 'patient_2'\n",
    "patient_2 = epis[['USI', 'DATE_OF_BIRTH']]\n",
    "patient_2.drop_duplicates(inplace=True)\n",
    "patient_2.reset_index(drop=True, inplace=True)\n",
    "patient_2['YEAR_OF_BIRTH'] = patient_2.DATE_OF_BIRTH.str[:4]\n",
    "patient_2.YEAR_OF_BIRTH = patient_2.YEAR_OF_BIRTH.astype(int)\n",
    "patient_2.head()"
   ]
  },
  {
   "cell_type": "code",
   "execution_count": 22,
   "metadata": {},
   "outputs": [
    {
     "name": "stderr",
     "output_type": "stream",
     "text": [
      "/Users/zhangyinghao/anaconda3/lib/python3.7/site-packages/ipykernel_launcher.py:3: SettingWithCopyWarning: \n",
      "A value is trying to be set on a copy of a slice from a DataFrame.\n",
      "Try using .loc[row_indexer,col_indexer] = value instead\n",
      "\n",
      "See the caveats in the documentation: http://pandas.pydata.org/pandas-docs/stable/indexing.html#indexing-view-versus-copy\n",
      "  This is separate from the ipykernel package so we can avoid doing imports until\n"
     ]
    },
    {
     "data": {
      "image/png": "[encoded data removed]",
      "text/plain": [
       "<Figure size 576x360 with 1 Axes>"
      ]
     },
     "metadata": {
      "needs_background": "light"
     },
     "output_type": "display_data"
    }
   ],
   "source": [
    "# bins years into decades\n",
    "bins = np.arange(1900, 2010+10, 10)\n",
    "patient_2['BIRTH_OF_DECADE'] = pd.cut(patient_2.YEAR_OF_BIRTH, bins, right=False, include_lowest=True)\n",
    "\n",
    "# create the plot of decades\n",
    "plt.figure(figsize=[8, 5])\n",
    "base_color = sns.color_palette()[0]\n",
    "sns.countplot(data=patient_2, x='BIRTH_OF_DECADE', color=base_color)\n",
    "plt.xticks([0, 1, 2, 3, 4, 5, 6, 7, 8, 9, 10, 11], \n",
    "           ['1900s', '1910s', '1920s', '1930s', '1940s', '1950s', '1960s', '1970s', '1980s', '1990s', '2000s'])\n",
    "plt.yticks([2e3, 4e3, 6e3, 8e3, 10e3, 12e3, 14e3], ['2k', '4k', '6k', '8k', '10k', '12k', '14k'])\n",
    "plt.xlabel('Birth Year', fontsize=12)\n",
    "plt.ylabel('Patient Number', fontsize=12)\n",
    "plt.axhline(y=10e3, color='r')\n",
    "plt.title('Proportion of Patients Born in Different Decades', fontsize=14);"
   ]
  },
  {
   "cell_type": "markdown",
   "metadata": {},
   "source": [
    "The birth year of the largest proportion of patients concentrates from 1920 to 2000, with all of the number over 10k and 1980s accounting for the largest proportion. There is a concern that people born in 1980s accounts for the highest proportion, indicating the occurrence of cancer trends to be in young people.\n",
    "\n",
    "### 2.7 Insights in Univariate Exploration\n",
    "- The number of male patients slightly outnumbers the female ones.\n",
    "- There is a increasing trend in both patient numbers and admissions over the year.\n",
    "- The most frequent cancer is `Chest pain unspecified`, while the two most frequent treatment are `Panendoscopy to duodenum with biopsy` and `Coronary angiography w left heart cath`. The treatment does not exactly correspond to the diagnosis.\n",
    "- The most frequent care type and admission source are `4` and `H` respectively, far outnumbering the remaining numbers. The most two frequent admission types are `C` and `P`.\n",
    "- People born from 1920 to 2000 account for the main proportion of cancer patients. The occurrence of cancer has a trend within young people.\n",
    "\n",
    "## 3. Bivariate Exploration\n",
    "### 3.1 `SEX` in `FIS_YEAR` Trend\n",
    "Let's now combine `SEX` and `FIS_YEAR` to discover how the number of patients in different genders and their admissions changed over the year."
   ]
  },
  {
   "cell_type": "code",
   "execution_count": 23,
   "metadata": {},
   "outputs": [
    {
     "name": "stderr",
     "output_type": "stream",
     "text": [
      "/Users/zhangyinghao/anaconda3/lib/python3.7/site-packages/ipykernel_launcher.py:3: SettingWithCopyWarning: \n",
      "A value is trying to be set on a copy of a slice from a DataFrame\n",
      "\n",
      "See the caveats in the documentation: http://pandas.pydata.org/pandas-docs/stable/indexing.html#indexing-view-versus-copy\n",
      "  This is separate from the ipykernel package so we can avoid doing imports until\n",
      "/Users/zhangyinghao/anaconda3/lib/python3.7/site-packages/ipykernel_launcher.py:8: SettingWithCopyWarning: \n",
      "A value is trying to be set on a copy of a slice from a DataFrame\n",
      "\n",
      "See the caveats in the documentation: http://pandas.pydata.org/pandas-docs/stable/indexing.html#indexing-view-versus-copy\n",
      "  \n"
     ]
    }
   ],
   "source": [
    "# create a dataframe called 'patient_fis'\n",
    "patient_fis_2 = diag[['USI', 'FIS_YEAR', 'SEX']]\n",
    "patient_fis_2.drop_duplicates(inplace=True)\n",
    "patient_fis_2.reset_index(drop=True, inplace=True)\n",
    "\n",
    "# create a dataframe called 'adm_fis'\n",
    "adm_fis_2 = diag[['UNIQUE_KEY', 'FIS_YEAR', 'SEX']]\n",
    "adm_fis_2.drop_duplicates(inplace=True)\n",
    "adm_fis_2.reset_index(drop=True, inplace=True)"
   ]
  },
  {
   "cell_type": "code",
   "execution_count": 24,
   "metadata": {},
   "outputs": [
    {
     "data": {
      "image/png": "[encoded data removed]",
      "text/plain": [
       "<Figure size 576x720 with 2 Axes>"
      ]
     },
     "metadata": {
      "needs_background": "light"
     },
     "output_type": "display_data"
    }
   ],
   "source": [
    "# create the plot of 'FIS_YEAR' for different genders\n",
    "plt.figure(figsize=[8, 10])\n",
    "plt.subplot(2, 1, 1)\n",
    "base_color = sns.color_palette()[0]\n",
    "sns.countplot(data=patient_fis_2, x='FIS_YEAR', color=base_color, hue='SEX')\n",
    "plt.yticks([5e3, 1e4, 1.5e4, 2e4, 2.5e4, 3e4, 3.5e4, 4e4], ['5k', '10k', '15k', '20k', '25k', '30k', '35k', '40k'])\n",
    "plt.ylabel('Patients')\n",
    "plt.legend(['Male', 'Female'], title='Gender')\n",
    "\n",
    "plt.subplot(2, 1, 2)\n",
    "sns.countplot(data=adm_fis_2, x='FIS_YEAR', color=base_color, hue='SEX')\n",
    "plt.yticks([2e4, 4e4, 6e4, 8e4], ['20k', '40k', '60k', '80k'])\n",
    "plt.ylabel('Adimissions')\n",
    "plt.legend(['Male', 'Female'], title='Gender');"
   ]
  },
  {
   "cell_type": "markdown",
   "metadata": {},
   "source": [
    "It seems that the proportion of genders does not change over the year.\n",
    "### 3.2 `SEX` in Birth Year"
   ]
  },
  {
   "cell_type": "code",
   "execution_count": 25,
   "metadata": {},
   "outputs": [
    {
     "name": "stderr",
     "output_type": "stream",
     "text": [
      "/Users/zhangyinghao/anaconda3/lib/python3.7/site-packages/ipykernel_launcher.py:3: SettingWithCopyWarning: \n",
      "A value is trying to be set on a copy of a slice from a DataFrame\n",
      "\n",
      "See the caveats in the documentation: http://pandas.pydata.org/pandas-docs/stable/indexing.html#indexing-view-versus-copy\n",
      "  This is separate from the ipykernel package so we can avoid doing imports until\n",
      "/Users/zhangyinghao/anaconda3/lib/python3.7/site-packages/ipykernel_launcher.py:5: SettingWithCopyWarning: \n",
      "A value is trying to be set on a copy of a slice from a DataFrame.\n",
      "Try using .loc[row_indexer,col_indexer] = value instead\n",
      "\n",
      "See the caveats in the documentation: http://pandas.pydata.org/pandas-docs/stable/indexing.html#indexing-view-versus-copy\n",
      "  \"\"\"\n",
      "/Users/zhangyinghao/anaconda3/lib/python3.7/site-packages/pandas/core/generic.py:4405: SettingWithCopyWarning: \n",
      "A value is trying to be set on a copy of a slice from a DataFrame.\n",
      "Try using .loc[row_indexer,col_indexer] = value instead\n",
      "\n",
      "See the caveats in the documentation: http://pandas.pydata.org/pandas-docs/stable/indexing.html#indexing-view-versus-copy\n",
      "  self[name] = value\n"
     ]
    },
    {
     "data": {
      "text/html": [
       "<div>\n",
       "<style scoped>\n",
       "    .dataframe tbody tr th:only-of-type {\n",
       "        vertical-align: middle;\n",
       "    }\n",
       "\n",
       "    .dataframe tbody tr th {\n",
       "        vertical-align: top;\n",
       "    }\n",
       "\n",
       "    .dataframe thead th {\n",
       "        text-align: right;\n",
       "    }\n",
       "</style>\n",
       "<table border=\"1\" class=\"dataframe\">\n",
       "  <thead>\n",
       "    <tr style=\"text-align: right;\">\n",
       "      <th></th>\n",
       "      <th>USI</th>\n",
       "      <th>DATE_OF_BIRTH</th>\n",
       "      <th>SEX</th>\n",
       "      <th>YEAR_OF_BIRTH</th>\n",
       "    </tr>\n",
       "  </thead>\n",
       "  <tbody>\n",
       "    <tr>\n",
       "      <th>0</th>\n",
       "      <td>98</td>\n",
       "      <td>1962-04-07</td>\n",
       "      <td>2</td>\n",
       "      <td>1962</td>\n",
       "    </tr>\n",
       "    <tr>\n",
       "      <th>1</th>\n",
       "      <td>112</td>\n",
       "      <td>1939-03-08</td>\n",
       "      <td>2</td>\n",
       "      <td>1939</td>\n",
       "    </tr>\n",
       "    <tr>\n",
       "      <th>2</th>\n",
       "      <td>131</td>\n",
       "      <td>1948-10-20</td>\n",
       "      <td>2</td>\n",
       "      <td>1948</td>\n",
       "    </tr>\n",
       "    <tr>\n",
       "      <th>3</th>\n",
       "      <td>156</td>\n",
       "      <td>1951-05-01</td>\n",
       "      <td>2</td>\n",
       "      <td>1951</td>\n",
       "    </tr>\n",
       "    <tr>\n",
       "      <th>4</th>\n",
       "      <td>159</td>\n",
       "      <td>1954-01-15</td>\n",
       "      <td>2</td>\n",
       "      <td>1954</td>\n",
       "    </tr>\n",
       "  </tbody>\n",
       "</table>\n",
       "</div>"
      ],
      "text/plain": [
       "   USI DATE_OF_BIRTH  SEX  YEAR_OF_BIRTH\n",
       "0   98    1962-04-07    2           1962\n",
       "1  112    1939-03-08    2           1939\n",
       "2  131    1948-10-20    2           1948\n",
       "3  156    1951-05-01    2           1951\n",
       "4  159    1954-01-15    2           1954"
      ]
     },
     "execution_count": 25,
     "metadata": {},
     "output_type": "execute_result"
    }
   ],
   "source": [
    "# create a dataframe called 'patient_2'\n",
    "patient_3 = epis[['USI', 'DATE_OF_BIRTH', 'SEX']]\n",
    "patient_3.drop_duplicates(inplace=True)\n",
    "patient_3.reset_index(drop=True, inplace=True)\n",
    "patient_3['YEAR_OF_BIRTH'] = patient_3.DATE_OF_BIRTH.str[:4]\n",
    "patient_3.YEAR_OF_BIRTH = patient_3.YEAR_OF_BIRTH.astype(int)\n",
    "patient_3.head()"
   ]
  },
  {
   "cell_type": "code",
   "execution_count": 26,
   "metadata": {
    "scrolled": true
   },
   "outputs": [
    {
     "name": "stderr",
     "output_type": "stream",
     "text": [
      "/Users/zhangyinghao/anaconda3/lib/python3.7/site-packages/ipykernel_launcher.py:3: SettingWithCopyWarning: \n",
      "A value is trying to be set on a copy of a slice from a DataFrame.\n",
      "Try using .loc[row_indexer,col_indexer] = value instead\n",
      "\n",
      "See the caveats in the documentation: http://pandas.pydata.org/pandas-docs/stable/indexing.html#indexing-view-versus-copy\n",
      "  This is separate from the ipykernel package so we can avoid doing imports until\n"
     ]
    },
    {
     "data": {
      "image/png": "[encoded data removed]",
      "text/plain": [
       "<Figure size 576x360 with 1 Axes>"
      ]
     },
     "metadata": {
      "needs_background": "light"
     },
     "output_type": "display_data"
    }
   ],
   "source": [
    "# bins years into decades\n",
    "bins = np.arange(1900, 2010+10, 10)\n",
    "patient_3['BIRTH_OF_DECADE'] = pd.cut(patient_3.YEAR_OF_BIRTH, bins, right=False, include_lowest=True)\n",
    "\n",
    "# create the plot of decades\n",
    "plt.figure(figsize=[8, 5])\n",
    "base_color = sns.color_palette()[0]\n",
    "sns.countplot(data=patient_3, x='BIRTH_OF_DECADE', color=base_color, hue='SEX')\n",
    "plt.xticks([0, 1, 2, 3, 4, 5, 6, 7, 8, 9, 10, 11], \n",
    "           ['1900s', '1910s', '1920s', '1930s', '1940s', '1950s', '1960s', '1970s', '1980s', '1990s', '2000s'])\n",
    "plt.yticks([1e3, 2e3, 3e3, 4e3, 5e3, 6e3, 7e3], ['1k', '2k', '3k', '4k', '5k', '6k', '7k'])\n",
    "plt.ylabel('Admissions')\n",
    "plt.legend(['Male', 'Female'], title='Gender');"
   ]
  },
  {
   "cell_type": "markdown",
   "metadata": {},
   "source": [
    "Overall, male patients outnumber female patients, with the difference slightly changing.\n",
    "\n",
    "### 3.3 Admission Distribution for Each Patient\n",
    "Now let's discover the pattern of how many times each patient was admitted to the hospital."
   ]
  },
  {
   "cell_type": "code",
   "execution_count": 27,
   "metadata": {},
   "outputs": [
    {
     "data": {
      "image/png": "[encoded data removed]",
      "text/plain": [
       "<Figure size 576x360 with 1 Axes>"
      ]
     },
     "metadata": {
      "needs_background": "light"
     },
     "output_type": "display_data"
    }
   ],
   "source": [
    "# plot the admission distribution for each patient\n",
    "bins = np.arange(0.5, 612.5+1, 1)\n",
    "adm_num = diag[['USI', 'UNIQUE_KEY']].drop_duplicates()\n",
    "adm_num = adm_num.groupby('USI').count()\n",
    "plt.figure(figsize=[8, 5])\n",
    "plt.hist(data=adm_num, x='UNIQUE_KEY', bins=bins, rwidth= .7);"
   ]
  },
  {
   "cell_type": "markdown",
   "metadata": {},
   "source": [
    "It seems that there are some anormalies in the dataset, so we set the limit of the x-axis."
   ]
  },
  {
   "cell_type": "code",
   "execution_count": 28,
   "metadata": {},
   "outputs": [
    {
     "data": {
      "image/png": "[encoded data removed]",
      "text/plain": [
       "<Figure size 576x360 with 1 Axes>"
      ]
     },
     "metadata": {
      "needs_background": "light"
     },
     "output_type": "display_data"
    }
   ],
   "source": [
    "bins = np.arange(0.5, 612.5+1, 1)\n",
    "plt.figure(figsize=[8, 5])\n",
    "plt.hist(data=adm_num, x='UNIQUE_KEY', bins=bins, rwidth= .7);\n",
    "plt.xlim(0, 10.5)\n",
    "plt.xticks([1, 2, 3, 4, 5, 6, 7, 8, 9, 10])\n",
    "plt.xlabel('The Number of Admissions');"
   ]
  },
  {
   "cell_type": "markdown",
   "metadata": {},
   "source": [
    "It is obvious that more than 60,000 patients were admitted to the hospital once and about 15,000 patients are admitted to the hospital twice. The distribution of admission is represented as a high right-skewness distribution.\n",
    "\n",
    "### 3.4 The Distribution of Cancer Type Complexity\n",
    "\n",
    "In order to compare the complexity of each cancer type, we need first to think of how to define the complexity. In this question, we assume that the complexity can be measured by the average number of diagnosis stages for each cancer in `DIAG_CD_01`. That means if the one patient has more diagnostic stages in average, the cancer from which he or she suffers has more complexity than others. Therefore, we will use an adapted bar chart to illustrate the comparison of complexity, with the x-axis representing cancer type in `DIAG_CD_01` while y-axis representing the complexity (the mean of diagnosis stages)."
   ]
  },
  {
   "cell_type": "code",
   "execution_count": 29,
   "metadata": {},
   "outputs": [
    {
     "data": {
      "text/html": [
       "<div>\n",
       "<style scoped>\n",
       "    .dataframe tbody tr th:only-of-type {\n",
       "        vertical-align: middle;\n",
       "    }\n",
       "\n",
       "    .dataframe tbody tr th {\n",
       "        vertical-align: top;\n",
       "    }\n",
       "\n",
       "    .dataframe thead th {\n",
       "        text-align: right;\n",
       "    }\n",
       "</style>\n",
       "<table border=\"1\" class=\"dataframe\">\n",
       "  <thead>\n",
       "    <tr style=\"text-align: right;\">\n",
       "      <th></th>\n",
       "      <th>UNIQUE_KEY</th>\n",
       "      <th>PRI_CODE</th>\n",
       "      <th>PRI_NAME</th>\n",
       "    </tr>\n",
       "  </thead>\n",
       "  <tbody>\n",
       "    <tr>\n",
       "      <th>0</th>\n",
       "      <td>6447017</td>\n",
       "      <td>F445</td>\n",
       "      <td>Dissociative convulsions</td>\n",
       "    </tr>\n",
       "    <tr>\n",
       "      <th>1</th>\n",
       "      <td>6397543</td>\n",
       "      <td>F445</td>\n",
       "      <td>Dissociative convulsions</td>\n",
       "    </tr>\n",
       "    <tr>\n",
       "      <th>2</th>\n",
       "      <td>6535983</td>\n",
       "      <td>F445</td>\n",
       "      <td>Dissociative convulsions</td>\n",
       "    </tr>\n",
       "    <tr>\n",
       "      <th>3</th>\n",
       "      <td>6396856</td>\n",
       "      <td>F445</td>\n",
       "      <td>Dissociative convulsions</td>\n",
       "    </tr>\n",
       "    <tr>\n",
       "      <th>4</th>\n",
       "      <td>6542957</td>\n",
       "      <td>F445</td>\n",
       "      <td>Dissociative convulsions</td>\n",
       "    </tr>\n",
       "  </tbody>\n",
       "</table>\n",
       "</div>"
      ],
      "text/plain": [
       "   UNIQUE_KEY PRI_CODE                  PRI_NAME\n",
       "0     6447017     F445  Dissociative convulsions\n",
       "1     6397543     F445  Dissociative convulsions\n",
       "2     6535983     F445  Dissociative convulsions\n",
       "3     6396856     F445  Dissociative convulsions\n",
       "4     6542957     F445  Dissociative convulsions"
      ]
     },
     "execution_count": 29,
     "metadata": {},
     "output_type": "execute_result"
    }
   ],
   "source": [
    "# extract the cancer type in `DIAG_CD_1` as primary cancer\n",
    "pri_cancer = diag.query('DIAG_STAGE == 1')[['UNIQUE_KEY', 'DIAG_CD']]\n",
    "pri_cancer.DIAG_CD = pri_cancer.DIAG_CD.str[2:]\n",
    "pri_cancer = pri_cancer.merge(diag_map, on='DIAG_CD')\n",
    "pri_cancer.rename(columns={'DIAG_CD': 'PRI_CODE', 'ASCII_SHORT_DESC': 'PRI_NAME'}, inplace=True)\n",
    "pri_cancer.head()"
   ]
  },
  {
   "cell_type": "code",
   "execution_count": 30,
   "metadata": {},
   "outputs": [
    {
     "data": {
      "text/html": [
       "<div>\n",
       "<style scoped>\n",
       "    .dataframe tbody tr th:only-of-type {\n",
       "        vertical-align: middle;\n",
       "    }\n",
       "\n",
       "    .dataframe tbody tr th {\n",
       "        vertical-align: top;\n",
       "    }\n",
       "\n",
       "    .dataframe thead th {\n",
       "        text-align: right;\n",
       "    }\n",
       "</style>\n",
       "<table border=\"1\" class=\"dataframe\">\n",
       "  <thead>\n",
       "    <tr style=\"text-align: right;\">\n",
       "      <th></th>\n",
       "      <th>UNIQUE_KEY</th>\n",
       "      <th>PRI_CODE</th>\n",
       "      <th>PRI_NAME</th>\n",
       "      <th>USI</th>\n",
       "      <th>SEX</th>\n",
       "      <th>FIS_YEAR</th>\n",
       "      <th>DIAG_STAGE</th>\n",
       "      <th>DIAG_CD</th>\n",
       "    </tr>\n",
       "  </thead>\n",
       "  <tbody>\n",
       "    <tr>\n",
       "      <th>0</th>\n",
       "      <td>6447017</td>\n",
       "      <td>F445</td>\n",
       "      <td>Dissociative convulsions</td>\n",
       "      <td>98</td>\n",
       "      <td>2</td>\n",
       "      <td>13/14</td>\n",
       "      <td>1</td>\n",
       "      <td>PF445</td>\n",
       "    </tr>\n",
       "    <tr>\n",
       "      <th>1</th>\n",
       "      <td>6447017</td>\n",
       "      <td>F445</td>\n",
       "      <td>Dissociative convulsions</td>\n",
       "      <td>98</td>\n",
       "      <td>2</td>\n",
       "      <td>13/14</td>\n",
       "      <td>2</td>\n",
       "      <td>PF209</td>\n",
       "    </tr>\n",
       "    <tr>\n",
       "      <th>2</th>\n",
       "      <td>6447017</td>\n",
       "      <td>F445</td>\n",
       "      <td>Dissociative convulsions</td>\n",
       "      <td>98</td>\n",
       "      <td>2</td>\n",
       "      <td>13/14</td>\n",
       "      <td>3</td>\n",
       "      <td>PE119</td>\n",
       "    </tr>\n",
       "    <tr>\n",
       "      <th>3</th>\n",
       "      <td>6397543</td>\n",
       "      <td>F445</td>\n",
       "      <td>Dissociative convulsions</td>\n",
       "      <td>13390</td>\n",
       "      <td>2</td>\n",
       "      <td>13/14</td>\n",
       "      <td>1</td>\n",
       "      <td>PF445</td>\n",
       "    </tr>\n",
       "    <tr>\n",
       "      <th>4</th>\n",
       "      <td>6397543</td>\n",
       "      <td>F445</td>\n",
       "      <td>Dissociative convulsions</td>\n",
       "      <td>13390</td>\n",
       "      <td>2</td>\n",
       "      <td>13/14</td>\n",
       "      <td>2</td>\n",
       "      <td>PS299</td>\n",
       "    </tr>\n",
       "  </tbody>\n",
       "</table>\n",
       "</div>"
      ],
      "text/plain": [
       "   UNIQUE_KEY PRI_CODE                  PRI_NAME    USI  SEX FIS_YEAR  \\\n",
       "0     6447017     F445  Dissociative convulsions     98    2    13/14   \n",
       "1     6447017     F445  Dissociative convulsions     98    2    13/14   \n",
       "2     6447017     F445  Dissociative convulsions     98    2    13/14   \n",
       "3     6397543     F445  Dissociative convulsions  13390    2    13/14   \n",
       "4     6397543     F445  Dissociative convulsions  13390    2    13/14   \n",
       "\n",
       "   DIAG_STAGE DIAG_CD  \n",
       "0           1   PF445  \n",
       "1           2   PF209  \n",
       "2           3   PE119  \n",
       "3           1   PF445  \n",
       "4           2   PS299  "
      ]
     },
     "execution_count": 30,
     "metadata": {},
     "output_type": "execute_result"
    }
   ],
   "source": [
    "# merge the two tables together\n",
    "pri_cancer = pri_cancer.merge(diag, on='UNIQUE_KEY')\n",
    "pri_cancer.head()"
   ]
  },
  {
   "cell_type": "code",
   "execution_count": 31,
   "metadata": {},
   "outputs": [
    {
     "data": {
      "image/png": "[encoded data removed]",
      "text/plain": [
       "<Figure size 576x360 with 1 Axes>"
      ]
     },
     "metadata": {
      "needs_background": "light"
     },
     "output_type": "display_data"
    }
   ],
   "source": [
    "# calculate the cancer type complexity\n",
    "diag_stage_num = pri_cancer.groupby(['PRI_NAME']).count().USI\n",
    "cancer_freq = pri_cancer[['UNIQUE_KEY', 'PRI_NAME']].drop_duplicates().groupby(['PRI_NAME']).count().UNIQUE_KEY\n",
    "cancer_com = diag_stage_num / cancer_freq\n",
    "cancer_ord = cancer_com.sort_values(ascending=False)\n",
    "cancer_ord = pd.DataFrame({'PRI_CODE': cancer_ord.index, 'Complexity':cancer_ord.values})\n",
    "\n",
    "# creat the distribution for the cancer type complexity\n",
    "plt.figure(figsize=[8, 5])\n",
    "base_color = sns.color_palette()[0]\n",
    "\n",
    "bins = np.arange(1, 12+1, 1)\n",
    "\n",
    "plt.hist(data=cancer_ord, x='Complexity', bins=bins)\n",
    "plt.xticks([1, 2, 3, 4, 5, 6, 7, 8, 9, 10, 11, 12])\n",
    "plt.xlabel('Complexity', fontsize=12)\n",
    "plt.ylabel('Cancer Type Number (DIAG_CD_01)', fontsize=12)\n",
    "plt.title('Distribution of Cancer Complexity (DIAG_CD_01)', fontsize=14);"
   ]
  },
  {
   "cell_type": "markdown",
   "metadata": {},
   "source": [
    "The graph shows that the cancer with the complexity of 2-3 accounts for the largest proportion. For complexity higher than 3, the proportion decreases and slightly increases in complexity of 11-12. \n",
    "\n",
    "### 3.5 Insights in Bivariate Exploration\n",
    "- The difference in patient genders for both remains nearly the same over the year.\n",
    "- For patients born before 1930, the female patient outnumbers the male patient, while for patients born after 1930, the male patient outnumbers the female patient\n",
    "- More than 60,000 patients were admitted to the hospital once and about 15,000 patients are admitted to the hospital twice.\n",
    "- The cancer with the complexity of 2-3 accounts for the largest proportion. For complexity higher than 3, the proportion decreases and slightly increases in complexity of 11-12.\n",
    "\n",
    "## 4. Conclusion\n",
    "This report utilizes univariate and bivariate exploration for `diag_clean`, `proc_clean`, and `epis_clean` datasets. Some descriptive insights are discovered from the visualization process. Here are some recommendations for further cancer research based on this dataset:\n",
    "- There are an increasing trend of cancer diagnosis over the year, and a large proportion of young people suffer from cancer. Thus, the reason for this cancer trend should be discovered in order to help with the prevention.\n",
    "- The cancer type of `Chest pain unspecified` is the most prevalent one among population. Researchers are suggested to put weight on this cancer type.\n",
    "- There are nearly 200 types of the cancer with the complexity of 11-12 within the dataset. These types should be focused on because these types are easily to evolve into other cancer types or forms in morphology."
   ]
  }
 ],
 "metadata": {
  "kernelspec": {
   "display_name": "Python 3",
   "language": "python",
   "name": "python3"
  },
  "language_info": {
   "codemirror_mode": {
    "name": "ipython",
    "version": 3
   },
   "file_extension": ".py",
   "mimetype": "text/x-python",
   "name": "python",
   "nbconvert_exporter": "python",
   "pygments_lexer": "ipython3",
   "version": "3.7.2"
  }
 },
 "nbformat": 4,
 "nbformat_minor": 2
}
